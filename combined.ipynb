{
 "cells": [
  {
   "cell_type": "code",
   "execution_count": 1,
   "metadata": {},
   "outputs": [],
   "source": [
    "import pandas as pd\n",
    "import numpy as np\n",
    "import consts\n",
    "pd.options.display.max_rows = 50\n",
    "pd.options.display.max_columns = 100\n",
    "INTERVAL = 12"
   ]
  },
  {
   "cell_type": "code",
   "execution_count": 2,
   "metadata": {},
   "outputs": [
    {
     "name": "stderr",
     "output_type": "stream",
     "text": [
      "C:\\Users\\Yuval-PC\\AppData\\Local\\Temp\\ipykernel_22536\\3103829523.py:6: DtypeWarning: Columns (9) have mixed types. Specify dtype option on import or set low_memory=False.\n",
      "  labevents_filtered = pd.read_csv(\"filtered\\\\filtered_labevents.csv\")\n"
     ]
    }
   ],
   "source": [
    "inputevets_filtered = pd.read_csv(\"filtered\\\\input_events_filtered_by_subject_id_and_medicine.csv\")\n",
    "chartevents_filtered = pd.read_csv(\"filtered\\\\filtered_chartevents.csv\")\n",
    "icustays_filtered = pd.read_csv(\"filtered\\\\filtered_icustays.csv\")\n",
    "patients_filtered = pd.read_csv(\"filtered\\\\filtered_patients.csv\")\n",
    "procedureevents_filtered = pd.read_csv(\"filtered\\\\filtered_procedureevents.csv\")\n",
    "labevents_filtered = pd.read_csv(\"filtered\\\\filtered_labevents.csv\")\n",
    "transfers_filtered = pd.read_csv(\"filtered\\\\filtered_transfers.csv\")\n",
    "itemid = pd.read_csv(\"data\\\\icu\\\\d_items.csv\")"
   ]
  },
  {
   "cell_type": "code",
   "execution_count": 3,
   "metadata": {},
   "outputs": [],
   "source": [
    "## add_previous_events\n",
    "def preceding_events(event_time, interval, subject_id, table, time_field, is_procedure=False):\n",
    "    if is_procedure: \n",
    "        table[time_field[0]] = pd.to_datetime(table[time_field[0]])\n",
    "        table[time_field[1]] = pd.to_datetime(table[time_field[1]])\n",
    "    else:    \n",
    "        table[time_field] = pd.to_datetime(table[time_field])\n",
    "    event_time = pd.Timestamp(event_time)\n",
    "    interval = pd.Timedelta(value=interval, unit=\"hours\")\n",
    "    events = table[table[\"subject_id\"] == subject_id]\n",
    "    if is_procedure: # labevents, chartsevents\n",
    "        start, end = time_field[0], time_field[1]\n",
    "        events = events[((events[end] >= event_time - interval) & (events[end] <= event_time)) | # finishes in the interval\n",
    "                        ((events[end] >= event_time) & (events[start] <= event_time))] # starts before the event and ends after the event\n",
    "    else: # procedure\n",
    "        events = events[(events[time_field] >= event_time - interval) & (events[time_field] <= event_time)]\n",
    "    return events\n"
   ]
  },
  {
   "cell_type": "code",
   "execution_count": 4,
   "metadata": {},
   "outputs": [],
   "source": [
    "def window_statistics(events, type):\n",
    "    if not events.empty:\n",
    "        if type != \"procedure\":\n",
    "            events_lst = events[[\"charttime\", \"value\"]].apply(lambda row: (row[\"charttime\"], row[\"value\"]), axis=1).to_list()\n",
    "        else:\n",
    "            events_lst = events[[\"starttime\", \"endtime\", \"value\"]].apply(lambda row: (row[\"starttime\"], row[\"endtime\"], row[\"value\"]), axis=1).to_list()\n",
    "    else:\n",
    "        events_lst = np.nan\n",
    "    return [events[\"value\"].max(), \n",
    "            events[\"value\"].min(), \n",
    "            events[\"value\"].std(),\n",
    "            events[\"value\"].mean(),\n",
    "            events[\"value\"].count(),\n",
    "            str(events_lst)]\n"
   ]
  },
  {
   "cell_type": "code",
   "execution_count": 5,
   "metadata": {},
   "outputs": [],
   "source": [
    "WINDOWING_CONFIG={\n",
    "  \"hr\": {\n",
    "    \"time_field\":\"charttime\",\n",
    "    \"table\": chartevents_filtered,\n",
    "    \"itemid\": consts.HR\n",
    "  },\n",
    "  \"bp\": {\n",
    "    \"time_field\":\"charttime\",\n",
    "    \"table\": chartevents_filtered,\n",
    "    \"itemid\": consts.BP\n",
    "  },\n",
    "  \"lactate\" :{\n",
    "    \"time_field\":\"charttime\",\n",
    "    \"table\":labevents_filtered,\n",
    "    \"itemid\": consts.LABEVENTS_CODES\n",
    "  },\n",
    "  \"procedure\":{\n",
    "    \"time_field\":(\"starttime\",\"endtime\"),\n",
    "    \"table\": procedureevents_filtered,\n",
    "    \"itemid\": consts.PROCEDURE_CODES\n",
    "  }\n",
    "}\n",
    "\n",
    "def windowing_for_row(input_events_row, interval, type):\n",
    "  subject_id = input_events_row[\"subject_id\"]\n",
    "  event_time = input_events_row[\"starttime\"]\n",
    "  config = WINDOWING_CONFIG[type]\n",
    "  pe_chartevents =  preceding_events(event_time, interval, subject_id, config[\"table\"], config[\"time_field\"], type==\"procedure\")\n",
    "  events = pe_chartevents[pe_chartevents[\"itemid\"].isin(config[\"itemid\"])]  \n",
    "  return window_statistics(events, type)\n",
    "\n",
    "\n"
   ]
  },
  {
   "cell_type": "code",
   "execution_count": 6,
   "metadata": {},
   "outputs": [],
   "source": [
    "input_small = inputevets_filtered[0:100]"
   ]
  },
  {
   "cell_type": "code",
   "execution_count": 7,
   "metadata": {},
   "outputs": [],
   "source": [
    "def filter_short_stays_and_different_unit(inputevents, icustays_filtered):\n",
    "    icustays_filtered = icustays_filtered[icustays_filtered[\"first_careunit\"] == icustays_filtered[\"last_careunit\"]]\n",
    "    icustays_filtered = icustays_filtered[icustays_filtered[\"los\"] >= consts.MINIMAL_LOS]\n",
    "    inputevents = inputevents.merge(icustays_filtered[[\"stay_id\", \"first_careunit\"]], left_on=\"stay_id\", right_on=\"stay_id\")\n",
    "    return inputevents"
   ]
  },
  {
   "cell_type": "code",
   "execution_count": 8,
   "metadata": {},
   "outputs": [],
   "source": [
    "def add_window_statistics(input_events, event_type):\n",
    "    statistics = input_events.apply(lambda row:windowing_for_row(row, INTERVAL, event_type), axis=1, result_type=\"expand\")\n",
    "    statistics = statistics.rename(columns={\n",
    "                                        0:f\"{event_type}_max\",\n",
    "                                        1:f\"{event_type}_min\",\n",
    "                                        2:f\"{event_type}_std\",\n",
    "                                        3:f\"{event_type}_mean\",\n",
    "                                        4:f\"{event_type}_count\",\n",
    "                                        5:f\"{event_type}_events_at_interval\"})\n",
    "    return pd.concat([input_events, statistics], axis=1)"
   ]
  },
  {
   "cell_type": "code",
   "execution_count": 9,
   "metadata": {},
   "outputs": [],
   "source": [
    "def add_all_statistics(inputevents):\n",
    "    inputevents = inputevents[[\"subject_id\",\"hadm_id\",\"stay_id\",\"starttime\",\"endtime\",\"storetime\",\"itemid\",\"itemid_label\",\"amount\",\"amountuom\",\"rate\",\"rateuom\",\"statusdescription\",\"patientweight\", \"first_careunit\"]]\n",
    "    for info_type in [\"bp\", \"hr\", \"lactate\", \"procedure\"]:\n",
    "        inputevents = add_window_statistics(inputevents, info_type)\n",
    "    return inputevents"
   ]
  },
  {
   "cell_type": "code",
   "execution_count": 10,
   "metadata": {},
   "outputs": [],
   "source": [
    "inputevents_filtered_by_los = filter_short_stays_and_different_unit(inputevets_filtered, icustays_filtered)\n",
    "combined_df = add_all_statistics(inputevents_filtered_by_los)\n",
    "combined_df.to_csv(\"combined_df_example.csv\")"
   ]
  }
 ],
 "metadata": {
  "interpreter": {
   "hash": "21589a861e7059626eec49178cfa44acb1c319d38466653f7be5797ee1fb4f34"
  },
  "kernelspec": {
   "display_name": "Python 3.9.5 64-bit",
   "language": "python",
   "name": "python3"
  },
  "language_info": {
   "codemirror_mode": {
    "name": "ipython",
    "version": 3
   },
   "file_extension": ".py",
   "mimetype": "text/x-python",
   "name": "python",
   "nbconvert_exporter": "python",
   "pygments_lexer": "ipython3",
   "version": "3.9.5"
  },
  "orig_nbformat": 4
 },
 "nbformat": 4,
 "nbformat_minor": 2
}
