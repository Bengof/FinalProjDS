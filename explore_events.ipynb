{
 "cells": [
  {
   "cell_type": "code",
   "execution_count": 118,
   "metadata": {},
   "outputs": [
    {
     "data": {
      "text/plain": [
       "<module 'chunk_filtering' from 'c:\\\\Users\\\\Yuval-PC\\\\Desktop\\\\project\\\\chunk_filtering.py'>"
      ]
     },
     "execution_count": 118,
     "metadata": {},
     "output_type": "execute_result"
    }
   ],
   "source": [
    "import pandas as pd\n",
    "import filter_data\n",
    "import imp\n",
    "import chunk_filtering\n",
    "imp.reload(filter_data)\n",
    "imp.reload(chunk_filtering)"
   ]
  },
  {
   "cell_type": "code",
   "execution_count": 112,
   "metadata": {},
   "outputs": [],
   "source": [
    "pd.options.display.max_rows = 999\n",
    "pd.options.display.max_columns = 100"
   ]
  },
  {
   "cell_type": "code",
   "execution_count": 119,
   "metadata": {},
   "outputs": [],
   "source": [
    "filter_data.save_filtered_chartevents()\n",
    "filter_data.save_filtered_inputevents()\n",
    "filter_data.save_filtered_icustays()\n",
    "filter_data.save_filtered_patients()\n",
    "filter_data.save_filtered_procedureevents()\n",
    "filter_data.save_filtered_labevents()\n",
    "filter_data.save_filtered_transfers()"
   ]
  },
  {
   "cell_type": "code",
   "execution_count": 120,
   "metadata": {},
   "outputs": [],
   "source": [
    "inputevets_filtered = pd.read_csv(\"filtered\\\\input_events_filtered_by_subject_id_and_medicine.csv\")\n",
    "chartevents_filtered = pd.read_csv(\"filtered\\\\filtered_chartevents.csv\")\n",
    "icustays_filtered = pd.read_csv(\"filtered\\\\filtered_icustays.csv\")\n",
    "patients_filtered = pd.read_csv(\"filtered\\\\filtered_patients.csv\")\n",
    "procedureevents_filtered = pd.read_csv(\"filtered\\\\filtered_procedureevents.csv\")\n",
    "labevents_filtered = pd.read_csv(\"filtered\\\\filtered_labevents.csv\")\n",
    "transfers_filtered = pd.read_csv(\"filtered\\\\filtered_transfers.csv\")\n",
    "itemid = pd.read_csv(\"data\\\\icu\\\\d_items.csv\")"
   ]
  }
 ],
 "metadata": {
  "interpreter": {
   "hash": "74c3a124b69adb03cdd6aad4b570071db800d76adff0aa649849c1f3b07e9f42"
  },
  "kernelspec": {
   "display_name": "Python 3.8.3",
   "language": "python",
   "name": "python3"
  },
  "language_info": {
   "codemirror_mode": {
    "name": "ipython",
    "version": 3
   },
   "file_extension": ".py",
   "mimetype": "text/x-python",
   "name": "python",
   "nbconvert_exporter": "python",
   "pygments_lexer": "ipython3",
   "version": "3.8.3"
  },
  "orig_nbformat": 4
 },
 "nbformat": 4,
 "nbformat_minor": 2
}
