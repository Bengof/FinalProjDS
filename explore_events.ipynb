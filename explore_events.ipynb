{
 "cells": [
  {
   "cell_type": "code",
   "execution_count": 19,
   "metadata": {},
   "outputs": [
    {
     "data": {
      "text/plain": [
       "<module 'chunk_filtering' from 'c:\\\\Users\\\\Yuval-PC\\\\Desktop\\\\project\\\\FinalProjDS\\\\chunk_filtering.py'>"
      ]
     },
     "execution_count": 19,
     "metadata": {},
     "output_type": "execute_result"
    }
   ],
   "source": [
    "import pandas as pd\n",
    "import filter_data\n",
    "import imp\n",
    "import chunk_filtering\n",
    "imp.reload(filter_data)\n",
    "imp.reload(chunk_filtering)"
   ]
  },
  {
   "cell_type": "code",
   "execution_count": 20,
   "metadata": {},
   "outputs": [],
   "source": [
    "pd.options.display.max_rows = 999\n",
    "pd.options.display.max_columns = 100"
   ]
  },
  {
   "cell_type": "code",
   "execution_count": 21,
   "metadata": {},
   "outputs": [
    {
     "name": "stdout",
     "output_type": "stream",
     "text": [
      "delete previous tmp folder\n",
      "create new folder after deleting old\n",
      "start chunk by chunk\n",
      "(10000000, 10)\n",
      "chunk number:0, rows amount:(950832, 10)\n"
     ]
    },
    {
     "name": "stderr",
     "output_type": "stream",
     "text": [
      "c:\\Users\\Yuval-PC\\Desktop\\project\\FinalProjDS\\chunk_filtering.py:11: DtypeWarning: Columns (6,8) have mixed types. Specify dtype option on import or set low_memory=False.\n",
      "  for chunk in reader:\n"
     ]
    },
    {
     "name": "stdout",
     "output_type": "stream",
     "text": [
      "(10000000, 10)\n",
      "chunk number:1, rows amount:(251301, 10)\n",
      "(10000000, 10)\n",
      "chunk number:2, rows amount:(0, 10)\n",
      "(10000000, 10)\n",
      "chunk number:3, rows amount:(0, 10)\n"
     ]
    },
    {
     "name": "stderr",
     "output_type": "stream",
     "text": [
      "c:\\Users\\Yuval-PC\\Desktop\\project\\FinalProjDS\\chunk_filtering.py:11: DtypeWarning: Columns (6,8) have mixed types. Specify dtype option on import or set low_memory=False.\n",
      "  for chunk in reader:\n"
     ]
    },
    {
     "name": "stdout",
     "output_type": "stream",
     "text": [
      "(10000000, 10)\n",
      "chunk number:4, rows amount:(731158, 10)\n"
     ]
    },
    {
     "name": "stderr",
     "output_type": "stream",
     "text": [
      "c:\\Users\\Yuval-PC\\Desktop\\project\\FinalProjDS\\chunk_filtering.py:11: DtypeWarning: Columns (6,8) have mixed types. Specify dtype option on import or set low_memory=False.\n",
      "  for chunk in reader:\n"
     ]
    },
    {
     "name": "stdout",
     "output_type": "stream",
     "text": [
      "(10000000, 10)\n",
      "chunk number:5, rows amount:(374076, 10)\n",
      "(10000000, 10)\n",
      "chunk number:6, rows amount:(0, 10)\n",
      "(10000000, 10)\n",
      "chunk number:7, rows amount:(0, 10)\n"
     ]
    },
    {
     "name": "stderr",
     "output_type": "stream",
     "text": [
      "c:\\Users\\Yuval-PC\\Desktop\\project\\FinalProjDS\\chunk_filtering.py:11: DtypeWarning: Columns (6,8) have mixed types. Specify dtype option on import or set low_memory=False.\n",
      "  for chunk in reader:\n"
     ]
    },
    {
     "name": "stdout",
     "output_type": "stream",
     "text": [
      "(10000000, 10)\n",
      "chunk number:8, rows amount:(664515, 10)\n"
     ]
    },
    {
     "name": "stderr",
     "output_type": "stream",
     "text": [
      "c:\\Users\\Yuval-PC\\Desktop\\project\\FinalProjDS\\chunk_filtering.py:11: DtypeWarning: Columns (6,8) have mixed types. Specify dtype option on import or set low_memory=False.\n",
      "  for chunk in reader:\n"
     ]
    },
    {
     "name": "stdout",
     "output_type": "stream",
     "text": [
      "(10000000, 10)\n",
      "chunk number:9, rows amount:(479039, 10)\n",
      "(10000000, 10)\n",
      "chunk number:10, rows amount:(0, 10)\n",
      "(10000000, 10)\n",
      "chunk number:11, rows amount:(0, 10)\n"
     ]
    },
    {
     "name": "stderr",
     "output_type": "stream",
     "text": [
      "c:\\Users\\Yuval-PC\\Desktop\\project\\FinalProjDS\\chunk_filtering.py:11: DtypeWarning: Columns (6,8) have mixed types. Specify dtype option on import or set low_memory=False.\n",
      "  for chunk in reader:\n"
     ]
    },
    {
     "name": "stdout",
     "output_type": "stream",
     "text": [
      "(10000000, 10)\n",
      "chunk number:12, rows amount:(535972, 10)\n"
     ]
    },
    {
     "name": "stderr",
     "output_type": "stream",
     "text": [
      "c:\\Users\\Yuval-PC\\Desktop\\project\\FinalProjDS\\chunk_filtering.py:11: DtypeWarning: Columns (6,8) have mixed types. Specify dtype option on import or set low_memory=False.\n",
      "  for chunk in reader:\n"
     ]
    },
    {
     "name": "stdout",
     "output_type": "stream",
     "text": [
      "(10000000, 10)\n",
      "chunk number:13, rows amount:(583375, 10)\n",
      "(10000000, 10)\n",
      "chunk number:14, rows amount:(0, 10)\n",
      "(10000000, 10)\n",
      "chunk number:15, rows amount:(0, 10)\n"
     ]
    },
    {
     "name": "stderr",
     "output_type": "stream",
     "text": [
      "c:\\Users\\Yuval-PC\\Desktop\\project\\FinalProjDS\\chunk_filtering.py:11: DtypeWarning: Columns (6,8) have mixed types. Specify dtype option on import or set low_memory=False.\n",
      "  for chunk in reader:\n"
     ]
    },
    {
     "name": "stdout",
     "output_type": "stream",
     "text": [
      "(10000000, 10)\n",
      "chunk number:16, rows amount:(335379, 10)\n"
     ]
    },
    {
     "name": "stderr",
     "output_type": "stream",
     "text": [
      "c:\\Users\\Yuval-PC\\Desktop\\project\\FinalProjDS\\chunk_filtering.py:11: DtypeWarning: Columns (6,8) have mixed types. Specify dtype option on import or set low_memory=False.\n",
      "  for chunk in reader:\n"
     ]
    },
    {
     "name": "stdout",
     "output_type": "stream",
     "text": [
      "(10000000, 10)\n",
      "chunk number:17, rows amount:(728372, 10)\n",
      "(10000000, 10)\n",
      "chunk number:18, rows amount:(0, 10)\n",
      "(10000000, 10)\n",
      "chunk number:19, rows amount:(0, 10)\n"
     ]
    },
    {
     "name": "stderr",
     "output_type": "stream",
     "text": [
      "c:\\Users\\Yuval-PC\\Desktop\\project\\FinalProjDS\\chunk_filtering.py:11: DtypeWarning: Columns (6,8) have mixed types. Specify dtype option on import or set low_memory=False.\n",
      "  for chunk in reader:\n"
     ]
    },
    {
     "name": "stdout",
     "output_type": "stream",
     "text": [
      "(10000000, 10)\n",
      "chunk number:20, rows amount:(293359, 10)\n"
     ]
    },
    {
     "name": "stderr",
     "output_type": "stream",
     "text": [
      "c:\\Users\\Yuval-PC\\Desktop\\project\\FinalProjDS\\chunk_filtering.py:11: DtypeWarning: Columns (6,8) have mixed types. Specify dtype option on import or set low_memory=False.\n",
      "  for chunk in reader:\n"
     ]
    },
    {
     "name": "stdout",
     "output_type": "stream",
     "text": [
      "(10000000, 10)\n",
      "chunk number:21, rows amount:(739273, 10)\n",
      "(10000000, 10)\n",
      "chunk number:22, rows amount:(0, 10)\n",
      "(10000000, 10)\n",
      "chunk number:23, rows amount:(0, 10)\n"
     ]
    },
    {
     "name": "stderr",
     "output_type": "stream",
     "text": [
      "c:\\Users\\Yuval-PC\\Desktop\\project\\FinalProjDS\\chunk_filtering.py:11: DtypeWarning: Columns (6,8) have mixed types. Specify dtype option on import or set low_memory=False.\n",
      "  for chunk in reader:\n"
     ]
    },
    {
     "name": "stdout",
     "output_type": "stream",
     "text": [
      "(10000000, 10)\n",
      "chunk number:24, rows amount:(264578, 10)\n"
     ]
    },
    {
     "name": "stderr",
     "output_type": "stream",
     "text": [
      "c:\\Users\\Yuval-PC\\Desktop\\project\\FinalProjDS\\chunk_filtering.py:11: DtypeWarning: Columns (6,8) have mixed types. Specify dtype option on import or set low_memory=False.\n",
      "  for chunk in reader:\n"
     ]
    },
    {
     "name": "stdout",
     "output_type": "stream",
     "text": [
      "(10000000, 10)\n",
      "chunk number:25, rows amount:(813644, 10)\n",
      "(10000000, 10)\n",
      "chunk number:26, rows amount:(0, 10)\n",
      "(10000000, 10)\n",
      "chunk number:27, rows amount:(0, 10)\n"
     ]
    },
    {
     "name": "stderr",
     "output_type": "stream",
     "text": [
      "c:\\Users\\Yuval-PC\\Desktop\\project\\FinalProjDS\\chunk_filtering.py:11: DtypeWarning: Columns (6,8) have mixed types. Specify dtype option on import or set low_memory=False.\n",
      "  for chunk in reader:\n"
     ]
    },
    {
     "name": "stdout",
     "output_type": "stream",
     "text": [
      "(10000000, 10)\n",
      "chunk number:28, rows amount:(234271, 10)\n",
      "(10000000, 10)\n",
      "chunk number:29, rows amount:(919468, 10)\n"
     ]
    },
    {
     "name": "stderr",
     "output_type": "stream",
     "text": [
      "c:\\Users\\Yuval-PC\\Desktop\\project\\FinalProjDS\\chunk_filtering.py:11: DtypeWarning: Columns (6,8) have mixed types. Specify dtype option on import or set low_memory=False.\n",
      "  for chunk in reader:\n"
     ]
    },
    {
     "name": "stdout",
     "output_type": "stream",
     "text": [
      "(10000000, 10)\n",
      "chunk number:30, rows amount:(29126, 10)\n",
      "(10000000, 10)\n",
      "chunk number:31, rows amount:(0, 10)\n",
      "(9499788, 10)\n",
      "chunk number:32, rows amount:(0, 10)\n",
      "combine chunks\n",
      "delete tmp folder\n",
      "create tmp folder for chunks results\n",
      "start chunk by chunk\n",
      "(76540, 8)\n",
      "chunk number:0, rows amount:(17333, 8)\n",
      "combine chunks\n",
      "delete tmp folder\n",
      "create tmp folder for chunks results\n",
      "start chunk by chunk\n",
      "(10000000, 15)\n",
      "chunk number:0, rows amount:(12735, 15)\n"
     ]
    },
    {
     "name": "stderr",
     "output_type": "stream",
     "text": [
      "c:\\Users\\Yuval-PC\\Desktop\\project\\FinalProjDS\\chunk_filtering.py:11: DtypeWarning: Columns (7) have mixed types. Specify dtype option on import or set low_memory=False.\n",
      "  for chunk in reader:\n"
     ]
    },
    {
     "name": "stdout",
     "output_type": "stream",
     "text": [
      "(10000000, 15)\n",
      "chunk number:1, rows amount:(12906, 15)\n"
     ]
    },
    {
     "name": "stderr",
     "output_type": "stream",
     "text": [
      "c:\\Users\\Yuval-PC\\Desktop\\project\\FinalProjDS\\chunk_filtering.py:11: DtypeWarning: Columns (7) have mixed types. Specify dtype option on import or set low_memory=False.\n",
      "  for chunk in reader:\n"
     ]
    },
    {
     "name": "stdout",
     "output_type": "stream",
     "text": [
      "(10000000, 15)\n",
      "chunk number:2, rows amount:(11375, 15)\n"
     ]
    },
    {
     "name": "stderr",
     "output_type": "stream",
     "text": [
      "c:\\Users\\Yuval-PC\\Desktop\\project\\FinalProjDS\\chunk_filtering.py:11: DtypeWarning: Columns (7) have mixed types. Specify dtype option on import or set low_memory=False.\n",
      "  for chunk in reader:\n"
     ]
    },
    {
     "name": "stdout",
     "output_type": "stream",
     "text": [
      "(10000000, 15)\n",
      "chunk number:3, rows amount:(12110, 15)\n",
      "(10000000, 15)\n",
      "chunk number:4, rows amount:(12685, 15)\n"
     ]
    },
    {
     "name": "stderr",
     "output_type": "stream",
     "text": [
      "c:\\Users\\Yuval-PC\\Desktop\\project\\FinalProjDS\\chunk_filtering.py:11: DtypeWarning: Columns (7) have mixed types. Specify dtype option on import or set low_memory=False.\n",
      "  for chunk in reader:\n"
     ]
    },
    {
     "name": "stdout",
     "output_type": "stream",
     "text": [
      "(10000000, 15)\n",
      "chunk number:5, rows amount:(11539, 15)\n"
     ]
    },
    {
     "name": "stderr",
     "output_type": "stream",
     "text": [
      "c:\\Users\\Yuval-PC\\Desktop\\project\\FinalProjDS\\chunk_filtering.py:11: DtypeWarning: Columns (7) have mixed types. Specify dtype option on import or set low_memory=False.\n",
      "  for chunk in reader:\n"
     ]
    },
    {
     "name": "stdout",
     "output_type": "stream",
     "text": [
      "(10000000, 15)\n",
      "chunk number:6, rows amount:(11222, 15)\n"
     ]
    },
    {
     "name": "stderr",
     "output_type": "stream",
     "text": [
      "c:\\Users\\Yuval-PC\\Desktop\\project\\FinalProjDS\\chunk_filtering.py:11: DtypeWarning: Columns (7) have mixed types. Specify dtype option on import or set low_memory=False.\n",
      "  for chunk in reader:\n"
     ]
    },
    {
     "name": "stdout",
     "output_type": "stream",
     "text": [
      "(10000000, 15)\n",
      "chunk number:7, rows amount:(10264, 15)\n"
     ]
    },
    {
     "name": "stderr",
     "output_type": "stream",
     "text": [
      "c:\\Users\\Yuval-PC\\Desktop\\project\\FinalProjDS\\chunk_filtering.py:11: DtypeWarning: Columns (7) have mixed types. Specify dtype option on import or set low_memory=False.\n",
      "  for chunk in reader:\n"
     ]
    },
    {
     "name": "stdout",
     "output_type": "stream",
     "text": [
      "(10000000, 15)\n",
      "chunk number:8, rows amount:(11165, 15)\n",
      "(10000000, 15)\n",
      "chunk number:9, rows amount:(11945, 15)\n"
     ]
    },
    {
     "name": "stderr",
     "output_type": "stream",
     "text": [
      "c:\\Users\\Yuval-PC\\Desktop\\project\\FinalProjDS\\chunk_filtering.py:11: DtypeWarning: Columns (7,9,12) have mixed types. Specify dtype option on import or set low_memory=False.\n",
      "  for chunk in reader:\n"
     ]
    },
    {
     "name": "stdout",
     "output_type": "stream",
     "text": [
      "(10000000, 15)\n",
      "chunk number:10, rows amount:(12290, 15)\n"
     ]
    },
    {
     "name": "stderr",
     "output_type": "stream",
     "text": [
      "c:\\Users\\Yuval-PC\\Desktop\\project\\FinalProjDS\\chunk_filtering.py:11: DtypeWarning: Columns (7,9,12) have mixed types. Specify dtype option on import or set low_memory=False.\n",
      "  for chunk in reader:\n"
     ]
    },
    {
     "name": "stdout",
     "output_type": "stream",
     "text": [
      "(10000000, 15)\n",
      "chunk number:11, rows amount:(21853, 15)\n"
     ]
    },
    {
     "name": "stderr",
     "output_type": "stream",
     "text": [
      "c:\\Users\\Yuval-PC\\Desktop\\project\\FinalProjDS\\chunk_filtering.py:11: DtypeWarning: Columns (7,9,12) have mixed types. Specify dtype option on import or set low_memory=False.\n",
      "  for chunk in reader:\n"
     ]
    },
    {
     "name": "stdout",
     "output_type": "stream",
     "text": [
      "(2103667, 15)\n",
      "chunk number:12, rows amount:(2665, 15)\n",
      "combine chunks\n",
      "delete tmp folder\n"
     ]
    }
   ],
   "source": [
    "filter_data.save_filtered_patients()\n",
    "filter_data.save_filtered_chartevents()\n",
    "filter_data.save_filtered_inputevents()\n",
    "filter_data.save_filtered_icustays()\n",
    "filter_data.save_filtered_procedureevents()\n",
    "filter_data.save_filtered_labevents()\n",
    "filter_data.save_filtered_transfers()"
   ]
  },
  {
   "cell_type": "code",
   "execution_count": 33,
   "metadata": {},
   "outputs": [],
   "source": [
    "inputevets_filtered = pd.read_csv(\"filtered\\\\input_events_filtered_by_subject_id_and_medicine.csv\")\n",
    "chartevents_filtered = pd.read_csv(\"filtered\\\\filtered_chartevents.csv\")\n",
    "icustays_filtered = pd.read_csv(\"filtered\\\\filtered_icustays.csv\")\n",
    "patients_filtered = pd.read_csv(\"filtered\\\\filtered_patients.csv\")\n",
    "procedureevents_filtered = pd.read_csv(\"filtered\\\\filtered_procedureevents.csv\")\n",
    "labevents_filtered = pd.read_csv(\"filtered\\\\filtered_labevents.csv\")\n",
    "transfers_filtered = pd.read_csv(\"filtered\\\\filtered_transfers.csv\")\n",
    "itemid = pd.read_csv(\"data\\\\icu\\\\d_items.csv\")"
   ]
  },
  {
   "cell_type": "code",
   "execution_count": 28,
   "metadata": {},
   "outputs": [
    {
     "data": {
      "text/plain": [
       "Heart Rate                                  23.330925\n",
       "Non Invasive Blood Pressure mean            14.389206\n",
       "Non Invasive Blood Pressure systolic        14.385395\n",
       "Non Invasive Blood Pressure diastolic       14.382150\n",
       "Arterial Blood Pressure mean                 8.521415\n",
       "Arterial Blood Pressure systolic             8.486138\n",
       "Arterial Blood Pressure diastolic            8.485155\n",
       "Non-Invasive Blood Pressure Alarm - Low      1.534489\n",
       "Non-Invasive Blood Pressure Alarm - High     1.532820\n",
       "ART BP Mean                                  0.922844\n",
       "ART BP Systolic                              0.916697\n",
       "ART BP Diastolic                             0.916466\n",
       "Arterial Blood Pressure Alarm - Low          0.715520\n",
       "Arterial Blood Pressure Alarm - High         0.714185\n",
       "Assisted Systole                             0.076006\n",
       "IABP Mean                                    0.075978\n",
       "Augmented Diastole                           0.075904\n",
       "BAEDP                                        0.075756\n",
       "Unassisted Systole                           0.074875\n",
       "PAEDP                                        0.074699\n",
       "Intra Aortic Balloon Pump Setting            0.069757\n",
       "ART Blood Pressure Alarm - Low               0.059967\n",
       "ART Blood Pressure Alarm Source              0.059790\n",
       "ART Blood Pressure Alarm - High              0.059772\n",
       "Plateau Pressure (IABP)                      0.038003\n",
       "Intra Aortic Ballon Pump Setting             0.005980\n",
       "Manual Blood Pressure Systolic Left          0.002828\n",
       "Manual Blood Pressure Systolic Right         0.002670\n",
       "Manual Blood Pressure Diastolic Left         0.002605\n",
       "Manual Blood Pressure Diastolic Right        0.002299\n",
       "Doppler BP                                   0.001938\n",
       "Orthostatic BPs sitting                      0.000918\n",
       "Orthostatic BPd sitting                      0.000918\n",
       "Orthostatic HR sitting                       0.000862\n",
       "Orthostatic BPs lying                        0.000853\n",
       "Orthostatic BPd lying                        0.000844\n",
       "Orthostatic HR lying                         0.000834\n",
       "Orthostatic BPd standing                     0.000705\n",
       "Orthostatic BPs standing                     0.000705\n",
       "Orthostatic HR standing                      0.000658\n",
       "MapApacheIIScore                             0.000139\n",
       "MapApacheIIValue                             0.000130\n",
       "MAP_ApacheIV                                 0.000046\n",
       "MapScore_ApacheIV                            0.000046\n",
       "ABI Brachial BP L                            0.000037\n",
       "ABI Ankle BP R                               0.000037\n",
       "ABI Brachial BP R                            0.000028\n",
       "ABI Ankle BP L                               0.000009\n",
       "Name: itemid_label, dtype: float64"
      ]
     },
     "execution_count": 28,
     "metadata": {},
     "output_type": "execute_result"
    }
   ],
   "source": [
    "chartevents_filtered[\"itemid_label\"].value_counts()/chartevents_filtered[\"itemid_label\"].count()*100"
   ]
  },
  {
   "cell_type": "code",
   "execution_count": 25,
   "metadata": {},
   "outputs": [
    {
     "data": {
      "text/plain": [
       "<matplotlib.axes._subplots.AxesSubplot at 0x2b289b1e460>"
      ]
     },
     "execution_count": 25,
     "metadata": {},
     "output_type": "execute_result"
    },
    {
     "data": {
      "image/png": "[encoded data removed]",
      "text/plain": [
       "<Figure size 640x480 with 1 Axes>"
      ]
     },
     "metadata": {},
     "output_type": "display_data"
    }
   ],
   "source": [
    "import matplotlib.pyplot as plt\n",
    "from matplotlib.pyplot import figure\n",
    "\n",
    "figure(figsize=(8, 6), dpi=80)\n",
    "chartevents_filtered[\"itemid_label\"].value_counts().plot.pie(autopct='%1.1f%%', fontsize=14)"
   ]
  },
  {
   "cell_type": "code",
   "execution_count": 5,
   "metadata": {
    "collapsed": false,
    "pycharm": {
     "name": "#%%\n"
    }
   },
   "outputs": [],
   "source": [
    "ITEM_IDS = pd.read_csv(\"data\\icu\\d_items.csv\")\n",
    "D_ICD_DIAGNOSIS = pd.read_csv(\"data\\hosp\\d_icd_diagnoses.csv\")\n",
    "DIAGNOSES_ICD = pd.read_csv(\"data\\hosp\\diagnoses_icd.csv\")\n",
    "PATIENTS = pd.read_csv(\"data\\core\\patients.csv\")\n"
   ]
  }
 ],
 "metadata": {
  "interpreter": {
   "hash": "21589a861e7059626eec49178cfa44acb1c319d38466653f7be5797ee1fb4f34"
  },
  "kernelspec": {
   "display_name": "Python 3.9.5 64-bit",
   "language": "python",
   "name": "python3"
  },
  "language_info": {
   "codemirror_mode": {
    "name": "ipython",
    "version": 3
   },
   "file_extension": ".py",
   "mimetype": "text/x-python",
   "name": "python",
   "nbconvert_exporter": "python",
   "pygments_lexer": "ipython3",
   "version": "3.9.5"
  },
  "orig_nbformat": 4
 },
 "nbformat": 4,
 "nbformat_minor": 2
}
