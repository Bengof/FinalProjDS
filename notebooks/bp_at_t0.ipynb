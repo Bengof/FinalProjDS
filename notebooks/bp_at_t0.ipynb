{
 "cells": [
  {
   "cell_type": "code",
   "execution_count": 1,
   "metadata": {},
   "outputs": [],
   "source": [
    "import pandas as pd\n",
    "import numpy as np\n",
    "import consts\n",
    "pd.options.display.max_rows = 50\n",
    "pd.options.display.max_columns = 100\n",
    "import combine_data"
   ]
  },
  {
   "cell_type": "code",
   "execution_count": 2,
   "metadata": {},
   "outputs": [],
   "source": [
    "inputevets_filtered = pd.read_csv(\"filtered\\\\input_events_filtered_by_subject_id_and_medicine.csv\")\n",
    "chartevents_filtered = pd.read_csv(\"filtered\\\\filtered_chartevents.csv\")\n",
    "icustays_filtered = pd.read_csv(\"filtered\\\\filtered_icustays.csv\")\n",
    "patients_filtered = pd.read_csv(\"filtered\\\\filtered_patients.csv\")\n",
    "procedureevents_filtered = pd.read_csv(\"filtered\\\\filtered_procedureevents.csv\")\n",
    "labevents_filtered = pd.read_csv(\"filtered\\\\filtered_labevents.csv\")\n",
    "transfers_filtered = pd.read_csv(\"filtered\\\\filtered_transfers.csv\")\n",
    "itemid = pd.read_csv(\"data\\\\icu\\\\d_items.csv\")"
   ]
  },
  {
   "cell_type": "code",
   "execution_count": null,
   "metadata": {},
   "outputs": [],
   "source": []
  }
 ],
 "metadata": {
  "kernelspec": {
   "display_name": "Python 3.9.5 64-bit",
   "language": "python",
   "name": "python3"
  },
  "language_info": {
   "codemirror_mode": {
    "name": "ipython",
    "version": 3
   },
   "file_extension": ".py",
   "mimetype": "text/x-python",
   "name": "python",
   "nbconvert_exporter": "python",
   "pygments_lexer": "ipython3",
   "version": "3.9.5"
  },
  "orig_nbformat": 4,
  "vscode": {
   "interpreter": {
    "hash": "21589a861e7059626eec49178cfa44acb1c319d38466653f7be5797ee1fb4f34"
   }
  }
 },
 "nbformat": 4,
 "nbformat_minor": 2
}
