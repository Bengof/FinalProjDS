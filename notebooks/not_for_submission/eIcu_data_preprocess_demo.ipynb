{
 "cells": [
  {
   "cell_type": "code",
   "execution_count": 1,
   "metadata": {},
   "outputs": [],
   "source": [
    "import pandas as pd\n",
    "drug = pd.read_csv(\"../data/eicu_demo/infusiondrug.csv\")\n",
    "bp = pd.read_csv(\"../data/eicu_demo/vitalPeriodic.csv\")\n",
    "diagnosis = pd.read_csv(\"../data/eicu_demo/diagnosis.csv\")\n",
    "patients_weight = pd.read_csv(\"../data/eicu_demo/patient.csv\")[[\"patientunitstayid\", \"admissionweight\"]]\n",
    "drug = drug.merge(patients_weight, on=\"patientunitstayid\")"
   ]
  },
  {
   "cell_type": "code",
   "execution_count": 2,
   "metadata": {
    "pycharm": {
     "name": "#%%\n"
    }
   },
   "outputs": [],
   "source": [
    "# preproicess bp\n",
    "bp = bp[~bp[\"systemicmean\"].isna()]"
   ]
  },
  {
   "cell_type": "code",
   "execution_count": 3,
   "metadata": {
    "pycharm": {
     "name": "#%%\n"
    }
   },
   "outputs": [],
   "source": [
    "#preprocess diagnosis\n",
    "#diagnisis_filtered =\n",
    "\n",
    "def contains_sepsis(value):\n",
    "    for icd in sepsis_icd_codes:\n",
    "        if value.lower().find(icd) != -1:\n",
    "            return True\n",
    "    return False\n",
    "\n",
    "diagnosis[diagnosis[\"diagnosisstring\"].str.lower().str.contains(\"sepsis\")]\n",
    "diagnosis = diagnosis[~diagnosis[\"icd9code\"].isna()]\n",
    "sepsis_icd_codes = [\"r65.2\", \"r65.20\", \"r65.21\", \"995.92\", \"995.91\", \"a41.9\"]\n",
    "diagnosis_filtered = diagnosis[diagnosis.apply(lambda row: contains_sepsis(row[\"icd9code\"]), axis=1)]"
   ]
  },
  {
   "cell_type": "code",
   "execution_count": 4,
   "metadata": {
    "pycharm": {
     "name": "#%%\n"
    }
   },
   "outputs": [
    {
     "name": "stderr",
     "output_type": "stream",
     "text": [
      "<ipython-input-4-9416b7d12209>:2: SettingWithCopyWarning: \n",
      "A value is trying to be set on a copy of a slice from a DataFrame.\n",
      "Try using .loc[row_indexer,col_indexer] = value instead\n",
      "\n",
      "See the caveats in the documentation: https://pandas.pydata.org/pandas-docs/stable/user_guide/indexing.html#returning-a-view-versus-a-copy\n",
      "  drug_mcg_kg_min[\"drugrate\"] = drug_mcg_kg_min[\"drugrate\"].astype(\"float\")\n"
     ]
    },
    {
     "data": {
      "text/plain": [
       "(array([-0.1,  0. ,  0.1,  0.2,  0.3,  0.4,  0.5,  0.6]),\n",
       " [Text(0, 0, ''),\n",
       "  Text(0, 0, ''),\n",
       "  Text(0, 0, ''),\n",
       "  Text(0, 0, ''),\n",
       "  Text(0, 0, ''),\n",
       "  Text(0, 0, ''),\n",
       "  Text(0, 0, ''),\n",
       "  Text(0, 0, '')])"
      ]
     },
     "execution_count": 4,
     "metadata": {},
     "output_type": "execute_result"
    },
    {
     "data": {
      "image/png": "[encoded data removed]",
      "text/plain": [
       "<Figure size 432x288 with 1 Axes>"
      ]
     },
     "metadata": {
      "needs_background": "light"
     },
     "output_type": "display_data"
    }
   ],
   "source": [
    "drug_mcg_kg_min = drug[(drug[\"drugname\"] == \"Norepinephrine (mcg/kg/min)\")]\n",
    "drug_mcg_kg_min[\"drugrate\"] = drug_mcg_kg_min[\"drugrate\"].astype(\"float\")\n",
    "drug_mcg_kg_min[\"drugrate\"].hist()\n",
    "import matplotlib.pyplot as plt\n",
    "plt.xticks(rotation=90)"
   ]
  },
  {
   "cell_type": "code",
   "execution_count": 5,
   "metadata": {
    "pycharm": {
     "name": "#%%\n"
    }
   },
   "outputs": [
    {
     "name": "stderr",
     "output_type": "stream",
     "text": [
      "<ipython-input-5-e3f364a569bf>:4: SettingWithCopyWarning: \n",
      "A value is trying to be set on a copy of a slice from a DataFrame.\n",
      "Try using .loc[row_indexer,col_indexer] = value instead\n",
      "\n",
      "See the caveats in the documentation: https://pandas.pydata.org/pandas-docs/stable/user_guide/indexing.html#returning-a-view-versus-a-copy\n",
      "  drug_mcg_min[\"drugrate\"] = drug_mcg_min[\"drugrate\"].astype(float)\n",
      "<ipython-input-5-e3f364a569bf>:5: SettingWithCopyWarning: \n",
      "A value is trying to be set on a copy of a slice from a DataFrame.\n",
      "Try using .loc[row_indexer,col_indexer] = value instead\n",
      "\n",
      "See the caveats in the documentation: https://pandas.pydata.org/pandas-docs/stable/user_guide/indexing.html#returning-a-view-versus-a-copy\n",
      "  drug_mcg_min[\"drugrate\"] = drug_mcg_min[\"drugrate\"] / drug_mcg_min[\"admissionweight\"]\n"
     ]
    },
    {
     "data": {
      "text/plain": [
       "<AxesSubplot:>"
      ]
     },
     "execution_count": 5,
     "metadata": {},
     "output_type": "execute_result"
    },
    {
     "data": {
      "image/png": "[encoded data removed]",
      "text/plain": [
       "<Figure size 432x288 with 1 Axes>"
      ]
     },
     "metadata": {
      "needs_background": "light"
     },
     "output_type": "display_data"
    }
   ],
   "source": [
    "# I didnt solve hoe to do conversion\n",
    "\n",
    "drug_mcg_min = drug[drug[\"drugname\"] == \"Norepinephrine (mcg/min)\"]\n",
    "drug_mcg_min[\"drugrate\"] = drug_mcg_min[\"drugrate\"].astype(float)\n",
    "drug_mcg_min[\"drugrate\"] = drug_mcg_min[\"drugrate\"] / drug_mcg_min[\"admissionweight\"]\n",
    "# print(drug_mcg_min[\"drugrate\"].value_counts())\n",
    "drug_mcg_min[drug_mcg_min[\"drugrate\"] < 0.3][\"drugrate\"].hist(bins=6)\n",
    "# plt.xticks(rotation=90)\n"
   ]
  },
  {
   "cell_type": "code",
   "execution_count": 6,
   "metadata": {
    "pycharm": {
     "name": "#%%\n"
    }
   },
   "outputs": [],
   "source": [
    "# # we want mcg/kg/min, here it is probably ml/mg/hr\n",
    "\n",
    "# drug_ml_hr = drug[drug[\"drugname\"] == \"Norepinephrine (ml/hr)\"]\n",
    "# drug_ml_hr[\"drugrate\"] = (drug_ml_hr[\"drugrate\"].astype(float) * 1000)/(60 * drug_ml_hr[\"admissionweight\"])\n",
    "# drug_ml_hr[drug_ml_hr[\"drugrate\"] < 0.3][\"drugrate\"].hist()"
   ]
  },
  {
   "cell_type": "code",
   "execution_count": 7,
   "metadata": {
    "pycharm": {
     "name": "#%%\n"
    }
   },
   "outputs": [],
   "source": [
    "# combine\n",
    "drugs_converted = pd.concat([drug_mcg_min, drug_mcg_kg_min])\n",
    "drugs_converted = drugs_converted[[\"patientunitstayid\", \"infusionoffset\", \"drugrate\"]]\n",
    "decisions_after_pipeline = drugs_converted.rename(columns={\"patientunitstayid\":\"stay_id\", \"infusionoffset\":\"starttime\", \"drugrate\":\"originalrate\"})\n",
    "decisions_after_pipeline[\"endtime\"] = decisions_after_pipeline[\"starttime\"]"
   ]
  },
  {
   "cell_type": "code",
   "execution_count": 8,
   "metadata": {},
   "outputs": [],
   "source": [
    "bp_filtered = bp[bp[\"patientunitstayid\"].isin(diagnosis_filtered[\"patientunitstayid\"].unique())]\n",
    "bp_filtered = bp_filtered[bp_filtered[\"patientunitstayid\"].isin(drugs_converted[\"patientunitstayid\"].unique())]\n",
    "stay_ids = bp_filtered.groupby(by=\"patientunitstayid\").agg({\"systemicmean\":\"count\"})\n",
    "stay_ids_with_enough_events = stay_ids[stay_ids[\"systemicmean\"] > 10].index\n",
    "bp_filtered = bp_filtered[bp_filtered[\"patientunitstayid\"].isin(stay_ids_with_enough_events)]"
   ]
  },
  {
   "cell_type": "code",
   "execution_count": null,
   "metadata": {},
   "outputs": [],
   "source": []
  },
  {
   "cell_type": "code",
   "execution_count": 9,
   "metadata": {},
   "outputs": [],
   "source": [
    "bp_filtered = bp_filtered[[\"patientunitstayid\", \"observationoffset\", \"systemicmean\"]]\n",
    "bp_filtered = bp_filtered.rename(columns={\"patientunitstayid\":\"stay_id\", \"observationoffset\": \"cur_bp_time\", \"systemicmean\":\"cur_bp\"})\n",
    "bp_filtered.loc[(bp_filtered[\"cur_bp\"] >= 200), \"cur_bp\"] = 199\n",
    "bp_filtered.loc[(bp_filtered[\"cur_bp\"] <= 0), \"cur_bp\"] = 0"
   ]
  },
  {
   "cell_type": "code",
   "execution_count": 10,
   "metadata": {
    "pycharm": {
     "name": "#%%\n"
    }
   },
   "outputs": [],
   "source": [
    "from tqdm import tqdm\n",
    "import numpy as np\n",
    "def doses_per_stay_id(stay_id, bps, doses):\n",
    "    bps_stay_id_subset = bps[bps.stay_id == stay_id]\n",
    "    doses_stay_id_subset = doses[doses.stay_id == stay_id]\n",
    "    bps_stay_id_subset = bps_stay_id_subset.sort_values(by=\"cur_bp_time\")\n",
    "    bps_stay_id_subset[\"cur_avg_bp\"] = bps_stay_id_subset[\"cur_bp\"].rolling(3).mean()\n",
    "    bps_stay_id_subset[\"next_bp\"] = bps_stay_id_subset[\"cur_bp\"].shift(-1)\n",
    "    bps_stay_id_subset[\"next_bp_time\"] = bps_stay_id_subset[\"cur_bp_time\"].shift(-1)\n",
    "    bps_stay_id_subset[\"next_avg_bp\"] = bps_stay_id_subset[\"next_bp\"].rolling(3).mean().shift(-2)\n",
    "    if bps_stay_id_subset.shape[0] > 3:\n",
    "        bps_stay_id_subset[\"cur_avg_bp\"].iloc[0] = bps_stay_id_subset[\"cur_bp\"].iloc[0]\n",
    "        bps_stay_id_subset[\"cur_avg_bp\"].iloc[1] =( bps_stay_id_subset[\"cur_bp\"].iloc[0] + bps_stay_id_subset[\"cur_bp\"].iloc[1])/2\n",
    "\n",
    "        bps_stay_id_subset[\"next_avg_bp\"].iloc[-2] = bps_stay_id_subset[\"next_bp\"].iloc[-2]\n",
    "        bps_stay_id_subset[\"next_avg_bp\"].iloc[-3] = (bps_stay_id_subset[\"next_bp\"].iloc[-3] + bps_stay_id_subset[\"next_bp\"].iloc[-2])/2\n",
    "    \n",
    "    \n",
    "        bps_stay_id_subset[\"dose\"] = np.nan\n",
    "        bps_stay_id_subset[\"dose\"] = bps_stay_id_subset.apply(lambda row: match_dose(row, doses_stay_id_subset), axis=1)\n",
    "    return bps_stay_id_subset\n",
    "\n",
    "def match_dose(bp_row, doses):\n",
    "        relevant_doses = doses[(bp_row[\"cur_bp_time\"] <= doses[\"starttime\"]) & \n",
    "                                    (bp_row[\"next_bp_time\"] > doses[\"starttime\"])]\n",
    "        dose = relevant_doses.head(1)[[\"originalrate\", \"starttime\", \"endtime\"]]\n",
    "        if dose.size == 3:\n",
    "            return dose.values[0][0]\n",
    "        else:\n",
    "            return None\n",
    "        \n",
    "def add_first_and_last_indicators(df):\n",
    "    # add first and last indicators\n",
    "    # sort by stay_id and cur_bp_time\n",
    "    df = df.sort_values([\"stay_id\", \"cur_bp_time\"], ascending=False)\n",
    "    df[\"last\"] = df.groupby(\"stay_id\").cumcount() == 0\n",
    "    df = df.sort_values([\"stay_id\", \"cur_bp_time\"], ascending=True)\n",
    "    df[\"first\"] = df.groupby(\"stay_id\").cumcount() == 0\n",
    "    return df\n",
    "\n",
    "def add_bp_catgeories(df):\n",
    "    # get bins for dose and bp\n",
    "    category_series= pd.cut(df.cur_bp, bins=BINS).astype(str)\n",
    "    # set name to category\n",
    "    category_series.name = \"bp_category\"\n",
    "    # add the category column to the df\n",
    "    df = df.join(category_series)\n",
    "    next_category_series= pd.cut(df.next_bp, bins=BINS).astype(str)\n",
    "    # set name to category\n",
    "    next_category_series.name = \"next_bp_category\"\n",
    "    df = df.join(next_category_series)\n",
    "    return df"
   ]
  },
  {
   "cell_type": "code",
   "execution_count": 11,
   "metadata": {
    "pycharm": {
     "name": "#%%\n"
    }
   },
   "outputs": [
    {
     "name": "stderr",
     "output_type": "stream",
     "text": [
      "  0%|                                                                                           | 0/90 [00:00<?, ?it/s]C:\\Users\\Yuval-PC\\anaconda3\\lib\\site-packages\\pandas\\core\\indexing.py:670: SettingWithCopyWarning: \n",
      "A value is trying to be set on a copy of a slice from a DataFrame\n",
      "\n",
      "See the caveats in the documentation: https://pandas.pydata.org/pandas-docs/stable/user_guide/indexing.html#returning-a-view-versus-a-copy\n",
      "  iloc._setitem_with_indexer(indexer, value)\n",
      " 24%|████████████████████                                                              | 22/90 [00:00<00:01, 53.54it/s]C:\\Users\\Yuval-PC\\anaconda3\\lib\\site-packages\\pandas\\core\\indexing.py:670: SettingWithCopyWarning: \n",
      "A value is trying to be set on a copy of a slice from a DataFrame\n",
      "\n",
      "See the caveats in the documentation: https://pandas.pydata.org/pandas-docs/stable/user_guide/indexing.html#returning-a-view-versus-a-copy\n",
      "  iloc._setitem_with_indexer(indexer, value)\n",
      " 28%|██████████████████████▊                                                           | 25/90 [00:00<00:01, 42.63it/s]C:\\Users\\Yuval-PC\\anaconda3\\lib\\site-packages\\pandas\\core\\indexing.py:670: SettingWithCopyWarning: \n",
      "A value is trying to be set on a copy of a slice from a DataFrame\n",
      "\n",
      "See the caveats in the documentation: https://pandas.pydata.org/pandas-docs/stable/user_guide/indexing.html#returning-a-view-versus-a-copy\n",
      "  iloc._setitem_with_indexer(indexer, value)\n",
      " 34%|████████████████████████████▏                                                     | 31/90 [00:02<00:05, 10.73it/s]C:\\Users\\Yuval-PC\\anaconda3\\lib\\site-packages\\pandas\\core\\indexing.py:670: SettingWithCopyWarning: \n",
      "A value is trying to be set on a copy of a slice from a DataFrame\n",
      "\n",
      "See the caveats in the documentation: https://pandas.pydata.org/pandas-docs/stable/user_guide/indexing.html#returning-a-view-versus-a-copy\n",
      "  iloc._setitem_with_indexer(indexer, value)\n",
      " 38%|██████████████████████████████▉                                                   | 34/90 [00:02<00:05, 10.94it/s]C:\\Users\\Yuval-PC\\anaconda3\\lib\\site-packages\\pandas\\core\\indexing.py:670: SettingWithCopyWarning: \n",
      "A value is trying to be set on a copy of a slice from a DataFrame\n",
      "\n",
      "See the caveats in the documentation: https://pandas.pydata.org/pandas-docs/stable/user_guide/indexing.html#returning-a-view-versus-a-copy\n",
      "  iloc._setitem_with_indexer(indexer, value)\n",
      " 44%|████████████████████████████████████▍                                             | 40/90 [00:02<00:04, 12.22it/s]C:\\Users\\Yuval-PC\\anaconda3\\lib\\site-packages\\pandas\\core\\indexing.py:670: SettingWithCopyWarning: \n",
      "A value is trying to be set on a copy of a slice from a DataFrame\n",
      "\n",
      "See the caveats in the documentation: https://pandas.pydata.org/pandas-docs/stable/user_guide/indexing.html#returning-a-view-versus-a-copy\n",
      "  iloc._setitem_with_indexer(indexer, value)\n",
      " 47%|██████████████████████████████████████▎                                           | 42/90 [00:05<00:21,  2.20it/s]C:\\Users\\Yuval-PC\\anaconda3\\lib\\site-packages\\pandas\\core\\indexing.py:670: SettingWithCopyWarning: \n",
      "A value is trying to be set on a copy of a slice from a DataFrame\n",
      "\n",
      "See the caveats in the documentation: https://pandas.pydata.org/pandas-docs/stable/user_guide/indexing.html#returning-a-view-versus-a-copy\n",
      "  iloc._setitem_with_indexer(indexer, value)\n",
      " 51%|█████████████████████████████████████████▉                                        | 46/90 [00:06<00:17,  2.50it/s]C:\\Users\\Yuval-PC\\anaconda3\\lib\\site-packages\\pandas\\core\\indexing.py:670: SettingWithCopyWarning: \n",
      "A value is trying to be set on a copy of a slice from a DataFrame\n",
      "\n",
      "See the caveats in the documentation: https://pandas.pydata.org/pandas-docs/stable/user_guide/indexing.html#returning-a-view-versus-a-copy\n",
      "  iloc._setitem_with_indexer(indexer, value)\n",
      " 52%|██████████████████████████████████████████▊                                       | 47/90 [00:06<00:18,  2.27it/s]C:\\Users\\Yuval-PC\\anaconda3\\lib\\site-packages\\pandas\\core\\indexing.py:670: SettingWithCopyWarning: \n",
      "A value is trying to be set on a copy of a slice from a DataFrame\n",
      "\n",
      "See the caveats in the documentation: https://pandas.pydata.org/pandas-docs/stable/user_guide/indexing.html#returning-a-view-versus-a-copy\n",
      "  iloc._setitem_with_indexer(indexer, value)\n",
      " 59%|████████████████████████████████████████████████▎                                 | 53/90 [00:09<00:16,  2.21it/s]C:\\Users\\Yuval-PC\\anaconda3\\lib\\site-packages\\pandas\\core\\indexing.py:670: SettingWithCopyWarning: \n",
      "A value is trying to be set on a copy of a slice from a DataFrame\n",
      "\n",
      "See the caveats in the documentation: https://pandas.pydata.org/pandas-docs/stable/user_guide/indexing.html#returning-a-view-versus-a-copy\n",
      "  iloc._setitem_with_indexer(indexer, value)\n",
      " 82%|███████████████████████████████████████████████████████████████████▍              | 74/90 [00:13<00:05,  2.73it/s]C:\\Users\\Yuval-PC\\anaconda3\\lib\\site-packages\\pandas\\core\\indexing.py:670: SettingWithCopyWarning: \n",
      "A value is trying to be set on a copy of a slice from a DataFrame\n",
      "\n",
      "See the caveats in the documentation: https://pandas.pydata.org/pandas-docs/stable/user_guide/indexing.html#returning-a-view-versus-a-copy\n",
      "  iloc._setitem_with_indexer(indexer, value)\n",
      "100%|██████████████████████████████████████████████████████████████████████████████████| 90/90 [00:14<00:00,  6.42it/s]\n"
     ]
    }
   ],
   "source": [
    "stay_ids = decisions_after_pipeline.stay_id.unique() \n",
    "bps_and_dose = None\n",
    "for stay_id in tqdm(stay_ids):\n",
    "    bps_and_dose_per_stay = doses_per_stay_id(stay_id, bp_filtered , decisions_after_pipeline)\n",
    "    if bps_and_dose is not None:\n",
    "        bps_and_dose = pd.concat([bps_and_dose, bps_and_dose_per_stay],axis=0)\n",
    "    else:\n",
    "        bps_and_dose = bps_and_dose_per_stay"
   ]
  },
  {
   "cell_type": "code",
   "execution_count": 12,
   "metadata": {},
   "outputs": [],
   "source": [
    "bps_and_dose = bps_and_dose[~bps_and_dose[\"cur_bp\"].isna()]"
   ]
  },
  {
   "cell_type": "code",
   "execution_count": 13,
   "metadata": {},
   "outputs": [
    {
     "data": {
      "text/plain": [
       "IntervalIndex([[0, 50), [50, 60), [60, 65), [65, 70), [70, 75), [75, 80), [80, 90), [90, 200)],\n",
       "              closed='left',\n",
       "              dtype='interval[int64]')"
      ]
     },
     "execution_count": 13,
     "metadata": {},
     "output_type": "execute_result"
    }
   ],
   "source": [
    "BINS = pd.IntervalIndex.from_tuples([(0,50),(50,60),(60,65),(65,70),(70,75),(75,80),(80,90),(90,200)], closed=\"left\")\n",
    "BINS"
   ]
  },
  {
   "cell_type": "code",
   "execution_count": 14,
   "metadata": {},
   "outputs": [],
   "source": [
    "\n",
    "\n",
    "bps_and_dose[\"dose\"] = bps_and_dose[\"dose\"].fillna(0)\n",
    "bps_and_dose = add_first_and_last_indicators(bps_and_dose)\n"
   ]
  },
  {
   "cell_type": "code",
   "execution_count": 15,
   "metadata": {},
   "outputs": [],
   "source": [
    "bps_and_dose = bps_and_dose.fillna(0)"
   ]
  },
  {
   "cell_type": "code",
   "execution_count": 16,
   "metadata": {},
   "outputs": [],
   "source": [
    "bps_and_dose[\"cur_avg_bp\"] = bps_and_dose[\"cur_avg_bp\"].astype(int)\n",
    "bps_and_dose[\"next_avg_bp\"] = bps_and_dose[\"next_avg_bp\"].astype(int)\n",
    "bps_and_dose[\"cur_bp\"] = bps_and_dose[\"cur_bp\"].astype(int)\n",
    "bps_and_dose[\"next_bp\"] = bps_and_dose[\"next_bp\"].astype(int)\n",
    "bps_and_dose = bps_and_dose.drop(columns=[\"cur_avg_bp\", \"next_avg_bp\"])\n",
    "#bps_and_dose = bps_and_dose.rename(columns={\"cur_avg_bp\":\"cur_bp\", \"next_avg_bp\":\"next_bp\"})\n",
    "bps_and_dose = add_bp_catgeories(bps_and_dose)"
   ]
  },
  {
   "cell_type": "code",
   "execution_count": 17,
   "metadata": {},
   "outputs": [
    {
     "data": {
      "text/html": [
       "<div>\n",
       "<style scoped>\n",
       "    .dataframe tbody tr th:only-of-type {\n",
       "        vertical-align: middle;\n",
       "    }\n",
       "\n",
       "    .dataframe tbody tr th {\n",
       "        vertical-align: top;\n",
       "    }\n",
       "\n",
       "    .dataframe thead th {\n",
       "        text-align: right;\n",
       "    }\n",
       "</style>\n",
       "<table border=\"1\" class=\"dataframe\">\n",
       "  <thead>\n",
       "    <tr style=\"text-align: right;\">\n",
       "      <th></th>\n",
       "      <th>stay_id</th>\n",
       "      <th>cur_bp_time</th>\n",
       "      <th>cur_bp</th>\n",
       "      <th>next_bp</th>\n",
       "      <th>next_bp_time</th>\n",
       "      <th>dose</th>\n",
       "      <th>last</th>\n",
       "      <th>first</th>\n",
       "      <th>bp_category</th>\n",
       "      <th>next_bp_category</th>\n",
       "    </tr>\n",
       "  </thead>\n",
       "  <tbody>\n",
       "    <tr>\n",
       "      <th>79582</th>\n",
       "      <td>249328</td>\n",
       "      <td>15</td>\n",
       "      <td>69</td>\n",
       "      <td>71</td>\n",
       "      <td>20.0</td>\n",
       "      <td>0.0</td>\n",
       "      <td>False</td>\n",
       "      <td>True</td>\n",
       "      <td>[65, 70)</td>\n",
       "      <td>[70, 75)</td>\n",
       "    </tr>\n",
       "    <tr>\n",
       "      <th>79744</th>\n",
       "      <td>249328</td>\n",
       "      <td>20</td>\n",
       "      <td>71</td>\n",
       "      <td>87</td>\n",
       "      <td>25.0</td>\n",
       "      <td>0.0</td>\n",
       "      <td>False</td>\n",
       "      <td>False</td>\n",
       "      <td>[70, 75)</td>\n",
       "      <td>[80, 90)</td>\n",
       "    </tr>\n",
       "    <tr>\n",
       "      <th>79174</th>\n",
       "      <td>249328</td>\n",
       "      <td>25</td>\n",
       "      <td>87</td>\n",
       "      <td>98</td>\n",
       "      <td>30.0</td>\n",
       "      <td>0.0</td>\n",
       "      <td>False</td>\n",
       "      <td>False</td>\n",
       "      <td>[80, 90)</td>\n",
       "      <td>[90, 200)</td>\n",
       "    </tr>\n",
       "    <tr>\n",
       "      <th>79816</th>\n",
       "      <td>249328</td>\n",
       "      <td>30</td>\n",
       "      <td>98</td>\n",
       "      <td>95</td>\n",
       "      <td>35.0</td>\n",
       "      <td>0.0</td>\n",
       "      <td>False</td>\n",
       "      <td>False</td>\n",
       "      <td>[90, 200)</td>\n",
       "      <td>[90, 200)</td>\n",
       "    </tr>\n",
       "    <tr>\n",
       "      <th>79906</th>\n",
       "      <td>249328</td>\n",
       "      <td>35</td>\n",
       "      <td>95</td>\n",
       "      <td>93</td>\n",
       "      <td>40.0</td>\n",
       "      <td>0.0</td>\n",
       "      <td>False</td>\n",
       "      <td>False</td>\n",
       "      <td>[90, 200)</td>\n",
       "      <td>[90, 200)</td>\n",
       "    </tr>\n",
       "    <tr>\n",
       "      <th>...</th>\n",
       "      <td>...</td>\n",
       "      <td>...</td>\n",
       "      <td>...</td>\n",
       "      <td>...</td>\n",
       "      <td>...</td>\n",
       "      <td>...</td>\n",
       "      <td>...</td>\n",
       "      <td>...</td>\n",
       "      <td>...</td>\n",
       "      <td>...</td>\n",
       "    </tr>\n",
       "    <tr>\n",
       "      <th>1608140</th>\n",
       "      <td>3239262</td>\n",
       "      <td>13642</td>\n",
       "      <td>162</td>\n",
       "      <td>156</td>\n",
       "      <td>13647.0</td>\n",
       "      <td>0.0</td>\n",
       "      <td>False</td>\n",
       "      <td>False</td>\n",
       "      <td>[90, 200)</td>\n",
       "      <td>[90, 200)</td>\n",
       "    </tr>\n",
       "    <tr>\n",
       "      <th>1608492</th>\n",
       "      <td>3239262</td>\n",
       "      <td>13647</td>\n",
       "      <td>156</td>\n",
       "      <td>136</td>\n",
       "      <td>13652.0</td>\n",
       "      <td>0.0</td>\n",
       "      <td>False</td>\n",
       "      <td>False</td>\n",
       "      <td>[90, 200)</td>\n",
       "      <td>[90, 200)</td>\n",
       "    </tr>\n",
       "    <tr>\n",
       "      <th>1606548</th>\n",
       "      <td>3239262</td>\n",
       "      <td>13652</td>\n",
       "      <td>136</td>\n",
       "      <td>199</td>\n",
       "      <td>13657.0</td>\n",
       "      <td>0.0</td>\n",
       "      <td>False</td>\n",
       "      <td>False</td>\n",
       "      <td>[90, 200)</td>\n",
       "      <td>[90, 200)</td>\n",
       "    </tr>\n",
       "    <tr>\n",
       "      <th>1606440</th>\n",
       "      <td>3239262</td>\n",
       "      <td>13657</td>\n",
       "      <td>199</td>\n",
       "      <td>199</td>\n",
       "      <td>13662.0</td>\n",
       "      <td>0.0</td>\n",
       "      <td>False</td>\n",
       "      <td>False</td>\n",
       "      <td>[90, 200)</td>\n",
       "      <td>[90, 200)</td>\n",
       "    </tr>\n",
       "    <tr>\n",
       "      <th>1608386</th>\n",
       "      <td>3239262</td>\n",
       "      <td>13662</td>\n",
       "      <td>199</td>\n",
       "      <td>0</td>\n",
       "      <td>0.0</td>\n",
       "      <td>0.0</td>\n",
       "      <td>True</td>\n",
       "      <td>False</td>\n",
       "      <td>[90, 200)</td>\n",
       "      <td>[0, 50)</td>\n",
       "    </tr>\n",
       "  </tbody>\n",
       "</table>\n",
       "<p>12428 rows × 10 columns</p>\n",
       "</div>"
      ],
      "text/plain": [
       "         stay_id  cur_bp_time  cur_bp  next_bp  next_bp_time  dose   last  \\\n",
       "79582     249328           15      69       71          20.0   0.0  False   \n",
       "79744     249328           20      71       87          25.0   0.0  False   \n",
       "79174     249328           25      87       98          30.0   0.0  False   \n",
       "79816     249328           30      98       95          35.0   0.0  False   \n",
       "79906     249328           35      95       93          40.0   0.0  False   \n",
       "...          ...          ...     ...      ...           ...   ...    ...   \n",
       "1608140  3239262        13642     162      156       13647.0   0.0  False   \n",
       "1608492  3239262        13647     156      136       13652.0   0.0  False   \n",
       "1606548  3239262        13652     136      199       13657.0   0.0  False   \n",
       "1606440  3239262        13657     199      199       13662.0   0.0  False   \n",
       "1608386  3239262        13662     199        0           0.0   0.0   True   \n",
       "\n",
       "         first bp_category next_bp_category  \n",
       "79582     True    [65, 70)         [70, 75)  \n",
       "79744    False    [70, 75)         [80, 90)  \n",
       "79174    False    [80, 90)        [90, 200)  \n",
       "79816    False   [90, 200)        [90, 200)  \n",
       "79906    False   [90, 200)        [90, 200)  \n",
       "...        ...         ...              ...  \n",
       "1608140  False   [90, 200)        [90, 200)  \n",
       "1608492  False   [90, 200)        [90, 200)  \n",
       "1606548  False   [90, 200)        [90, 200)  \n",
       "1606440  False   [90, 200)        [90, 200)  \n",
       "1608386  False   [90, 200)          [0, 50)  \n",
       "\n",
       "[12428 rows x 10 columns]"
      ]
     },
     "execution_count": 17,
     "metadata": {},
     "output_type": "execute_result"
    }
   ],
   "source": [
    "\n",
    "\n",
    "bps_and_dose"
   ]
  },
  {
   "cell_type": "code",
   "execution_count": 18,
   "metadata": {},
   "outputs": [],
   "source": [
    "bps_and_dose.to_csv(\"eICU_bps_with_doses_no_average.csv\")"
   ]
  },
  {
   "cell_type": "markdown",
   "metadata": {},
   "source": [
    "# MIMIC 8 bins\n"
   ]
  },
  {
   "cell_type": "code",
   "execution_count": 33,
   "metadata": {},
   "outputs": [],
   "source": [
    "mimic = pd.read_csv(\"../rnl/RNLData/MIMIC_bps_with_doses.csv\")"
   ]
  },
  {
   "cell_type": "code",
   "execution_count": 35,
   "metadata": {},
   "outputs": [],
   "source": [
    "mimic[\"cur_bp\"] = mimic[\"cur_bp\"].astype(int)\n",
    "mimic[\"next_bp\"] = mimic[\"next_bp\"].fillna(0).astype(int)"
   ]
  },
  {
   "cell_type": "code",
   "execution_count": 36,
   "metadata": {},
   "outputs": [],
   "source": [
    "mimic = mimic.drop(columns=[\"bp_category\", \"next_bp_category\", \"Unnamed: 0\"])"
   ]
  },
  {
   "cell_type": "code",
   "execution_count": 37,
   "metadata": {},
   "outputs": [],
   "source": [
    "mimic_8_bins = add_bp_catgeories(mimic)"
   ]
  },
  {
   "cell_type": "code",
   "execution_count": 38,
   "metadata": {},
   "outputs": [],
   "source": [
    "mimic_8_bins.to_csv(\"../rnl/RNLData/MIMIC_bps_with_doses_8_bins.csv\")"
   ]
  }
 ],
 "metadata": {
  "kernelspec": {
   "display_name": "Python 3",
   "language": "python",
   "name": "python3"
  },
  "language_info": {
   "codemirror_mode": {
    "name": "ipython",
    "version": 3
   },
   "file_extension": ".py",
   "mimetype": "text/x-python",
   "name": "python",
   "nbconvert_exporter": "python",
   "pygments_lexer": "ipython3",
   "version": "3.8.5"
  }
 },
 "nbformat": 4,
 "nbformat_minor": 1
}
