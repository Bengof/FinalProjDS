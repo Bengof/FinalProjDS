{
 "cells": [
  {
   "cell_type": "code",
   "execution_count": 1,
   "metadata": {},
   "outputs": [],
   "source": [
    "import pandas as pd\n",
    "import numpy as np\n",
    "import importlib\n",
    "import sys\n",
    "sys.path.append('..')\n",
    "\n",
    "import consts\n",
    "importlib.reload(consts)\n",
    "\n",
    "pd.options.display.max_rows = 1000\n",
    "pd.options.display.max_columns = 50\n",
    "\n",
    "# pd set seed\n",
    "np.random.seed(42)"
   ]
  },
  {
   "cell_type": "code",
   "execution_count": 2,
   "metadata": {},
   "outputs": [],
   "source": [
    "df = pd.read_csv('..\\processed\\inputevents_decision_only.csv')"
   ]
  },
  {
   "cell_type": "code",
   "execution_count": 3,
   "metadata": {},
   "outputs": [],
   "source": [
    "icustays_filtered = pd.read_csv(\"..\\\\filtered\\\\filtered_icustays.csv\")\n",
    "inputevents = df.merge(icustays_filtered[[\"stay_id\", \"first_careunit\"]], left_on=\"stay_id\", right_on=\"stay_id\")\n",
    "inputevents_SICU_MICU = inputevents[inputevents[\"first_careunit\"].isin([\"Medical Intensive Care Unit (MICU)\", \"Surgical Intensive Care Unit (SICU)\"])]"
   ]
  },
  {
   "cell_type": "code",
   "execution_count": 4,
   "metadata": {},
   "outputs": [],
   "source": [
    "def generate_equal_size_group(group):\n",
    "    smaller_size = group[\"first_careunit\"].value_counts().min()\n",
    "    smaller_gr = group[\"first_careunit\"].value_counts().index[group.first_careunit.value_counts().argmin()]\n",
    "    bigger_gr = group[\"first_careunit\"].value_counts().index[group.first_careunit.value_counts().argmax()]\n",
    "    subgroup1 = group[group[\"first_careunit\"] == smaller_gr]\n",
    "    subgroup2 = group[group[\"first_careunit\"] == bigger_gr].sample(smaller_size, random_state=42)\n",
    "    return pd.concat([subgroup1, subgroup2], axis=0)"
   ]
  },
  {
   "cell_type": "code",
   "execution_count": 5,
   "metadata": {},
   "outputs": [],
   "source": [
    "def permutation_test_mean(x_1,x_2,num_perms):\n",
    "    \"\"\"\n",
    "    Performs a permutation test on the difference in means between two arrays.\n",
    "    x_1, x_2: array of a single gene, same length\n",
    "    \"\"\"\n",
    "    T = np.abs(np.mean(x_1)-np.mean(x_2))\n",
    "    n = len(x_1)\n",
    "    T_perm = np.zeros(num_perms)\n",
    "    X = np.concatenate((x_1,x_2))\n",
    "    for j in range(num_perms):\n",
    "        idx = np.random.permutation(len(X))\n",
    "        T_perm[j] = np.abs(np.mean(X[idx[:n]])-np.mean(X[idx[(n+1):]]))\n",
    "    p_value = len(np.where(T_perm>T)[0]) / num_perms    \n",
    "    return p_value"
   ]
  },
  {
   "cell_type": "code",
   "execution_count": 6,
   "metadata": {},
   "outputs": [],
   "source": [
    "groups_list = []\n",
    "for bp_range, i in zip(consts.BP_RANGES, range(0,len(consts.BP_RANGES))):\n",
    "    bp_low, bp_high = bp_range \n",
    "    bp_section_events = inputevents_SICU_MICU[(inputevents_SICU_MICU[\"bp_val\"] >= bp_low) & \n",
    "                                (inputevents_SICU_MICU[\"bp_val\"] <= bp_high) & \n",
    "                                (inputevents_SICU_MICU[\"originalrate\"] <= 1) & \n",
    "                                (inputevents_SICU_MICU[\"originalrate\"] >= 0)]\n",
    "    bp_section_events = generate_equal_size_group(bp_section_events)\n",
    "    groups_list.append(bp_section_events)\n"
   ]
  },
  {
   "cell_type": "code",
   "execution_count": 7,
   "metadata": {},
   "outputs": [],
   "source": [
    "p_val_array = []\n",
    "for i in range(0,len(consts.BP_RANGES)):\n",
    "    bp_section_events = groups_list[i]\n",
    "    s_icu_group = bp_section_events[bp_section_events[\"first_careunit\"] == \"Surgical Intensive Care Unit (SICU)\"]\n",
    "    m_icu_group = bp_section_events[bp_section_events[\"first_careunit\"] == \"Medical Intensive Care Unit (MICU)\"]\n",
    "    p_val_array.append(permutation_test_mean(s_icu_group[\"originalrate\"], m_icu_group[\"originalrate\"], 15000))\n"
   ]
  },
  {
   "cell_type": "code",
   "execution_count": 8,
   "metadata": {},
   "outputs": [
    {
     "data": {
      "text/html": [
       "<div>\n",
       "<style scoped>\n",
       "    .dataframe tbody tr th:only-of-type {\n",
       "        vertical-align: middle;\n",
       "    }\n",
       "\n",
       "    .dataframe tbody tr th {\n",
       "        vertical-align: top;\n",
       "    }\n",
       "\n",
       "    .dataframe thead th {\n",
       "        text-align: right;\n",
       "    }\n",
       "</style>\n",
       "<table border=\"1\" class=\"dataframe\">\n",
       "  <thead>\n",
       "    <tr style=\"text-align: right;\">\n",
       "      <th></th>\n",
       "      <th>0</th>\n",
       "      <th>1</th>\n",
       "      <th>2</th>\n",
       "      <th>3</th>\n",
       "      <th>4</th>\n",
       "      <th>5</th>\n",
       "      <th>6</th>\n",
       "      <th>7</th>\n",
       "    </tr>\n",
       "  </thead>\n",
       "  <tbody>\n",
       "    <tr>\n",
       "      <th>bp_range</th>\n",
       "      <td>(0, 49)</td>\n",
       "      <td>(50, 59)</td>\n",
       "      <td>(60, 64)</td>\n",
       "      <td>(65, 69)</td>\n",
       "      <td>(70, 74)</td>\n",
       "      <td>(75, 79)</td>\n",
       "      <td>(80, 89)</td>\n",
       "      <td>(90, 200)</td>\n",
       "    </tr>\n",
       "    <tr>\n",
       "      <th>p_val</th>\n",
       "      <td>0.825667</td>\n",
       "      <td>0.0012</td>\n",
       "      <td>0.138</td>\n",
       "      <td>0.0127333</td>\n",
       "      <td>0.0116</td>\n",
       "      <td>0.0105333</td>\n",
       "      <td>0.00393333</td>\n",
       "      <td>0.0002</td>\n",
       "    </tr>\n",
       "    <tr>\n",
       "      <th>is pval &lt; 0.05</th>\n",
       "      <td>False</td>\n",
       "      <td>True</td>\n",
       "      <td>False</td>\n",
       "      <td>True</td>\n",
       "      <td>True</td>\n",
       "      <td>True</td>\n",
       "      <td>True</td>\n",
       "      <td>True</td>\n",
       "    </tr>\n",
       "  </tbody>\n",
       "</table>\n",
       "</div>"
      ],
      "text/plain": [
       "                       0         1         2          3         4          5  \\\n",
       "bp_range         (0, 49)  (50, 59)  (60, 64)   (65, 69)  (70, 74)   (75, 79)   \n",
       "p_val           0.825667    0.0012     0.138  0.0127333    0.0116  0.0105333   \n",
       "is pval < 0.05     False      True     False       True      True       True   \n",
       "\n",
       "                         6          7  \n",
       "bp_range          (80, 89)  (90, 200)  \n",
       "p_val           0.00393333     0.0002  \n",
       "is pval < 0.05        True       True  "
      ]
     },
     "execution_count": 8,
     "metadata": {},
     "output_type": "execute_result"
    }
   ],
   "source": [
    "bp_range_pval_array_df = pd.DataFrame({\"bp_range\": consts.BP_RANGES, \"p_val\": p_val_array})\n",
    "bp_range_pval_array_df[\"is pval < 0.05\"] = bp_range_pval_array_df[\"p_val\"] < 0.05\n",
    "bp_range_pval_array_df.transpose()"
   ]
  },
  {
   "cell_type": "code",
   "execution_count": 9,
   "metadata": {},
   "outputs": [],
   "source": [
    "mu_s_b1 = groups_list[1][groups_list[1][\"first_careunit\"] == \"Surgical Intensive Care Unit (SICU)\"][\"originalrate\"].mean()\n",
    "mu_m_b1 = groups_list[1][groups_list[1][\"first_careunit\"] == \"Medical Intensive Care Unit (MICU)\"][\"originalrate\"].mean()"
   ]
  },
  {
   "cell_type": "code",
   "execution_count": 10,
   "metadata": {},
   "outputs": [
    {
     "data": {
      "text/plain": [
       "0.011475135525003732"
      ]
     },
     "execution_count": 10,
     "metadata": {},
     "output_type": "execute_result"
    }
   ],
   "source": [
    "np.abs(mu_s_b1 - mu_m_b1)"
   ]
  },
  {
   "cell_type": "code",
   "execution_count": 11,
   "metadata": {},
   "outputs": [
    {
     "data": {
      "text/plain": [
       "0.007166936841500993"
      ]
     },
     "execution_count": 11,
     "metadata": {},
     "output_type": "execute_result"
    }
   ],
   "source": [
    "mu_s_b3 = groups_list[3][groups_list[3][\"first_careunit\"] == \"Surgical Intensive Care Unit (SICU)\"][\"originalrate\"].mean()\n",
    "mu_m_b3 = groups_list[3][groups_list[3][\"first_careunit\"] == \"Medical Intensive Care Unit (MICU)\"][\"originalrate\"].mean()\n",
    "np.abs(mu_s_b3 - mu_m_b3)"
   ]
  },
  {
   "cell_type": "code",
   "execution_count": 12,
   "metadata": {},
   "outputs": [
    {
     "data": {
      "text/plain": [
       "0.009293511379407426"
      ]
     },
     "execution_count": 12,
     "metadata": {},
     "output_type": "execute_result"
    }
   ],
   "source": [
    "mu_s = inputevents_SICU_MICU[inputevents_SICU_MICU[\"first_careunit\"] == \"Surgical Intensive Care Unit (SICU)\"][\"originalrate\"].mean()\n",
    "mu_m = inputevents_SICU_MICU[inputevents_SICU_MICU[\"first_careunit\"] == \"Medical Intensive Care Unit (MICU)\"][\"originalrate\"].mean()\n",
    "np.abs(mu_s - mu_m)"
   ]
  },
  {
   "cell_type": "code",
   "execution_count": 13,
   "metadata": {},
   "outputs": [
    {
     "data": {
      "text/plain": [
       "0.0026"
      ]
     },
     "execution_count": 13,
     "metadata": {},
     "output_type": "execute_result"
    }
   ],
   "source": [
    "permutation_test_mean(inputevents_SICU_MICU[inputevents_SICU_MICU[\"first_careunit\"] == \"Surgical Intensive Care Unit (SICU)\"][\"originalrate\"],\n",
    "                        inputevents_SICU_MICU[inputevents_SICU_MICU[\"first_careunit\"] == \"Medical Intensive Care Unit (MICU)\"][\"originalrate\"],\n",
    "                        15000)"
   ]
  }
 ],
 "metadata": {
  "kernelspec": {
   "display_name": "Python 3",
   "language": "python",
   "name": "python3"
  },
  "language_info": {
   "codemirror_mode": {
    "name": "ipython",
    "version": 3
   },
   "file_extension": ".py",
   "mimetype": "text/x-python",
   "name": "python",
   "nbconvert_exporter": "python",
   "pygments_lexer": "ipython3",
   "version": "3.8.5"
  },
  "vscode": {
   "interpreter": {
    "hash": "2a81ccbe17102d48bdec925e9311487b015961bfe3fa8f064acc458fe41b4313"
   }
  }
 },
 "nbformat": 4,
 "nbformat_minor": 2
}
