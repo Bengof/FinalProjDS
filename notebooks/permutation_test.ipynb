{
 "cells": [
  {
   "cell_type": "code",
   "execution_count": 37,
   "metadata": {},
   "outputs": [],
   "source": [
    "import pandas as pd\n",
    "import numpy as np\n",
    "import importlib\n",
    "import sys\n",
    "sys.path.append('..')\n",
    "\n",
    "import consts\n",
    "importlib.reload(consts)\n",
    "\n",
    "pd.options.display.max_rows = 1000\n",
    "pd.options.display.max_columns = 50\n",
    "\n",
    "# pd set seed\n",
    "np.random.seed(42)"
   ]
  },
  {
   "cell_type": "code",
   "execution_count": 6,
   "metadata": {},
   "outputs": [],
   "source": [
    "df = pd.read_csv(consts.PATH_TO_DATA + 'full_pipeline_ok_filtered.csv')"
   ]
  },
  {
   "cell_type": "code",
   "execution_count": 16,
   "metadata": {},
   "outputs": [],
   "source": [
    "icustays_filtered = pd.read_csv(\"..\\\\filtered\\\\filtered_icustays.csv\")\n",
    "inputevents = df.merge(icustays_filtered[[\"stay_id\", \"first_careunit\"]], left_on=\"stay_id\", right_on=\"stay_id\")\n",
    "inputevents_SICU_MICU = inputevents[inputevents[\"first_careunit\"].isin([\"Medical Intensive Care Unit (MICU)\", \"Surgical Intensive Care Unit (SICU)\"])]"
   ]
  },
  {
   "cell_type": "code",
   "execution_count": 38,
   "metadata": {},
   "outputs": [],
   "source": [
    "def generate_equal_size_group(group):\n",
    "    smaller_size = group[\"first_careunit\"].value_counts().min()\n",
    "    smaller_gr = group[\"first_careunit\"].value_counts().index[group.first_careunit.value_counts().argmin()]\n",
    "    bigger_gr = group[\"first_careunit\"].value_counts().index[group.first_careunit.value_counts().argmax()]\n",
    "    subgroup1 = group[group[\"first_careunit\"] == smaller_gr]\n",
    "    subgroup2 = group[group[\"first_careunit\"] == bigger_gr].sample(smaller_size, random_state=42)\n",
    "    return pd.concat([subgroup1, subgroup2], axis=0)"
   ]
  },
  {
   "cell_type": "code",
   "execution_count": 22,
   "metadata": {},
   "outputs": [],
   "source": [
    "def permutation_test_mean(x_1,x_2,num_perms):\n",
    "    \"\"\"\n",
    "    Performs a permutation test on the difference in means between two arrays.\n",
    "    x_1, x_2: array of a single gene, same length\n",
    "    \"\"\"\n",
    "    T = np.abs(np.mean(x_1)-np.mean(x_2))\n",
    "    n = len(x_1)\n",
    "    T_perm = np.zeros(num_perms)\n",
    "    X = np.concatenate((x_1,x_2))\n",
    "    for j in range(num_perms):\n",
    "        idx = np.random.permutation(len(X))\n",
    "        T_perm[j] = np.abs(np.mean(X[idx[:n]])-np.mean(X[idx[(n+1):]]))\n",
    "    p_value = len(np.where(T_perm>T)[0]) / num_perms    \n",
    "    return p_value"
   ]
  },
  {
   "cell_type": "code",
   "execution_count": 42,
   "metadata": {},
   "outputs": [],
   "source": [
    "groups_list = []\n",
    "for bp_range, i in zip(consts.BP_RANGES, range(0,16)):\n",
    "    bp_low, bp_high = bp_range \n",
    "    bp_section_events = inputevents_SICU_MICU[(inputevents_SICU_MICU[\"bp_val\"] >= bp_low) & \n",
    "                                (inputevents_SICU_MICU[\"bp_val\"] <= bp_high) & \n",
    "                                (inputevents_SICU_MICU[\"originalrate\"] <= 1) & \n",
    "                                (inputevents_SICU_MICU[\"originalrate\"] >= 0)]\n",
    "    bp_section_events = generate_equal_size_group(bp_section_events)\n",
    "    groups_list.append(bp_section_events)\n"
   ]
  },
  {
   "cell_type": "code",
   "execution_count": 55,
   "metadata": {},
   "outputs": [],
   "source": [
    "p_val_array = []\n",
    "for i in range(0,16):\n",
    "    bp_section_events = groups_list[i]\n",
    "    s_icu_group = bp_section_events[bp_section_events[\"first_careunit\"] == \"Surgical Intensive Care Unit (SICU)\"]\n",
    "    m_icu_group = bp_section_events[bp_section_events[\"first_careunit\"] == \"Medical Intensive Care Unit (MICU)\"]\n",
    "    p_val_array.append(permutation_test_mean(s_icu_group[\"originalrate\"], m_icu_group[\"originalrate\"], 15000))\n"
   ]
  },
  {
   "cell_type": "code",
   "execution_count": 59,
   "metadata": {},
   "outputs": [
    {
     "data": {
      "text/plain": [
       "[0.2572,\n",
       " 0.9466,\n",
       " 0.123,\n",
       " 0.008933333333333333,\n",
       " 0.13926666666666668,\n",
       " 0.012533333333333334,\n",
       " 0.011066666666666667,\n",
       " 0.0096,\n",
       " 0.0532,\n",
       " 0.11033333333333334,\n",
       " 0.6653333333333333,\n",
       " 0.00046666666666666666,\n",
       " 0.011066666666666667,\n",
       " 0.31466666666666665,\n",
       " 0.20086666666666667,\n",
       " 0.15233333333333332]"
      ]
     },
     "execution_count": 59,
     "metadata": {},
     "output_type": "execute_result"
    }
   ],
   "source": [
    "p_val_array"
   ]
  },
  {
   "cell_type": "code",
   "execution_count": 56,
   "metadata": {},
   "outputs": [],
   "source": [
    "mu_s_b1 = groups_list[1][groups_list[1][\"first_careunit\"] == \"Surgical Intensive Care Unit (SICU)\"][\"originalrate\"].mean()\n",
    "mu_m_b1 = groups_list[1][groups_list[1][\"first_careunit\"] == \"Medical Intensive Care Unit (MICU)\"][\"originalrate\"].mean()"
   ]
  },
  {
   "cell_type": "code",
   "execution_count": 57,
   "metadata": {},
   "outputs": [
    {
     "data": {
      "text/plain": [
       "0.0010482394057562822"
      ]
     },
     "execution_count": 57,
     "metadata": {},
     "output_type": "execute_result"
    }
   ],
   "source": [
    "np.abs(mu_s_b1 - mu_m_b1)"
   ]
  },
  {
   "cell_type": "code",
   "execution_count": 58,
   "metadata": {},
   "outputs": [
    {
     "data": {
      "text/plain": [
       "0.01123048180670222"
      ]
     },
     "execution_count": 58,
     "metadata": {},
     "output_type": "execute_result"
    }
   ],
   "source": [
    "mu_s_b3 = groups_list[3][groups_list[3][\"first_careunit\"] == \"Surgical Intensive Care Unit (SICU)\"][\"originalrate\"].mean()\n",
    "mu_m_b3 = groups_list[3][groups_list[3][\"first_careunit\"] == \"Medical Intensive Care Unit (MICU)\"][\"originalrate\"].mean()\n",
    "np.abs(mu_s_b3 - mu_m_b3)"
   ]
  },
  {
   "cell_type": "code",
   "execution_count": 60,
   "metadata": {},
   "outputs": [
    {
     "data": {
      "text/plain": [
       "0.009293511379407426"
      ]
     },
     "execution_count": 60,
     "metadata": {},
     "output_type": "execute_result"
    }
   ],
   "source": [
    "mu_s = inputevents_SICU_MICU[inputevents_SICU_MICU[\"first_careunit\"] == \"Surgical Intensive Care Unit (SICU)\"][\"originalrate\"].mean()\n",
    "mu_m = inputevents_SICU_MICU[inputevents_SICU_MICU[\"first_careunit\"] == \"Medical Intensive Care Unit (MICU)\"][\"originalrate\"].mean()\n",
    "np.abs(mu_s - mu_m)"
   ]
  },
  {
   "cell_type": "code",
   "execution_count": 65,
   "metadata": {},
   "outputs": [
    {
     "data": {
      "text/plain": [
       "0.0024"
      ]
     },
     "execution_count": 65,
     "metadata": {},
     "output_type": "execute_result"
    }
   ],
   "source": [
    "permutation_test_mean(inputevents_SICU_MICU[inputevents_SICU_MICU[\"first_careunit\"] == \"Surgical Intensive Care Unit (SICU)\"][\"originalrate\"],\n",
    "                        inputevents_SICU_MICU[inputevents_SICU_MICU[\"first_careunit\"] == \"Medical Intensive Care Unit (MICU)\"][\"originalrate\"],\n",
    "                        15000)"
   ]
  }
 ],
 "metadata": {
  "kernelspec": {
   "display_name": "Python 3.8.8 ('base')",
   "language": "python",
   "name": "python3"
  },
  "language_info": {
   "codemirror_mode": {
    "name": "ipython",
    "version": 3
   },
   "file_extension": ".py",
   "mimetype": "text/x-python",
   "name": "python",
   "nbconvert_exporter": "python",
   "pygments_lexer": "ipython3",
   "version": "3.8.8"
  },
  "orig_nbformat": 4,
  "vscode": {
   "interpreter": {
    "hash": "07c075a9b5f2c6eeca205e3e40160531b5d1bb36f179d2cd3e5fef17509ca490"
   }
  }
 },
 "nbformat": 4,
 "nbformat_minor": 2
}
