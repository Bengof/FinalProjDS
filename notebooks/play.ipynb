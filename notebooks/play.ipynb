{
 "cells": [
  {
   "cell_type": "code",
   "execution_count": 1,
   "metadata": {},
   "outputs": [],
   "source": [
    "import pandas as pd\n",
    "import chunk_filtering"
   ]
  },
  {
   "cell_type": "code",
   "execution_count": 13,
   "metadata": {},
   "outputs": [
    {
     "name": "stdout",
     "output_type": "stream",
     "text": [
      "<class 'pandas.core.frame.DataFrame'>\n",
      "RangeIndex: 11988 entries, 0 to 11987\n",
      "Data columns (total 9 columns):\n",
      " #   Column             Non-Null Count  Dtype \n",
      "---  ------             --------------  ----- \n",
      " 0   Unnamed: 0         11988 non-null  int64 \n",
      " 1   subject_id         11988 non-null  int64 \n",
      " 2   gender             11988 non-null  object\n",
      " 3   anchor_age         11988 non-null  int64 \n",
      " 4   anchor_year        11988 non-null  int64 \n",
      " 5   anchor_year_group  11988 non-null  object\n",
      " 6   dod                3724 non-null   object\n",
      " 7   icd_code           11988 non-null  object\n",
      " 8   icd_version        11988 non-null  int64 \n",
      "dtypes: int64(5), object(4)\n",
      "memory usage: 843.0+ KB\n"
     ]
    }
   ],
   "source": [
    "pd.read_csv(\"filtered//filtered_patients.csv\").info()"
   ]
  },
  {
   "cell_type": "code",
   "execution_count": 35,
   "metadata": {},
   "outputs": [
    {
     "data": {
      "text/plain": [
       "50"
      ]
     },
     "execution_count": 35,
     "metadata": {},
     "output_type": "execute_result"
    }
   ],
   "source": [
    "len([10098428,10316237,10390732,10442603,10471837,10545747,11203579,11655031,11657854,11731917,12006998,12302099,12638104,12643806,12823483,13343224,13561149,14122388,14685940,14702630,14819767,14934088,15403474,15654297,15690435,15775064,15897606,16571922,16731711,16994397,17565549,17922352,17963938,18400480,18768021,18826099,18870126,19099515,19215025,10004235,10006029,10017851,10017886,10019003,10031358,10035168,10035631,10047172,10054716,10071281])"
   ]
  },
  {
   "cell_type": "code",
   "execution_count": 29,
   "metadata": {},
   "outputs": [
    {
     "name": "stdout",
     "output_type": "stream",
     "text": [
      "create tmp folder for chunks results\n",
      "start chunk by chunk\n",
      "(10000000, 10)\n",
      "chunk number:0, rows amount:(135293, 10)\n"
     ]
    },
    {
     "name": "stderr",
     "output_type": "stream",
     "text": [
      "c:\\Users\\Yuval-PC\\Desktop\\project\\FinalProjDS\\chunk_filtering.py:13: DtypeWarning: Columns (6,8) have mixed types. Specify dtype option on import or set low_memory=False.\n",
      "  for chunk in reader:\n"
     ]
    },
    {
     "name": "stdout",
     "output_type": "stream",
     "text": [
      "(10000000, 10)\n",
      "chunk number:1, rows amount:(125662, 10)\n",
      "(10000000, 10)\n",
      "chunk number:2, rows amount:(114916, 10)\n",
      "(10000000, 10)\n",
      "chunk number:3, rows amount:(124884, 10)\n"
     ]
    },
    {
     "name": "stderr",
     "output_type": "stream",
     "text": [
      "c:\\Users\\Yuval-PC\\Desktop\\project\\FinalProjDS\\chunk_filtering.py:13: DtypeWarning: Columns (6,8) have mixed types. Specify dtype option on import or set low_memory=False.\n",
      "  for chunk in reader:\n"
     ]
    },
    {
     "name": "stdout",
     "output_type": "stream",
     "text": [
      "(10000000, 10)\n",
      "chunk number:4, rows amount:(0, 10)\n"
     ]
    },
    {
     "name": "stderr",
     "output_type": "stream",
     "text": [
      "c:\\Users\\Yuval-PC\\Desktop\\project\\FinalProjDS\\chunk_filtering.py:13: DtypeWarning: Columns (6,8) have mixed types. Specify dtype option on import or set low_memory=False.\n",
      "  for chunk in reader:\n"
     ]
    },
    {
     "name": "stdout",
     "output_type": "stream",
     "text": [
      "(10000000, 10)\n",
      "chunk number:5, rows amount:(0, 10)\n",
      "(10000000, 10)\n",
      "chunk number:6, rows amount:(0, 10)\n",
      "(10000000, 10)\n",
      "chunk number:7, rows amount:(0, 10)\n"
     ]
    },
    {
     "name": "stderr",
     "output_type": "stream",
     "text": [
      "c:\\Users\\Yuval-PC\\Desktop\\project\\FinalProjDS\\chunk_filtering.py:13: DtypeWarning: Columns (6,8) have mixed types. Specify dtype option on import or set low_memory=False.\n",
      "  for chunk in reader:\n"
     ]
    },
    {
     "name": "stdout",
     "output_type": "stream",
     "text": [
      "(10000000, 10)\n",
      "chunk number:8, rows amount:(0, 10)\n"
     ]
    },
    {
     "name": "stderr",
     "output_type": "stream",
     "text": [
      "c:\\Users\\Yuval-PC\\Desktop\\project\\FinalProjDS\\chunk_filtering.py:13: DtypeWarning: Columns (6,8) have mixed types. Specify dtype option on import or set low_memory=False.\n",
      "  for chunk in reader:\n"
     ]
    },
    {
     "name": "stdout",
     "output_type": "stream",
     "text": [
      "(10000000, 10)\n",
      "chunk number:9, rows amount:(0, 10)\n",
      "(10000000, 10)\n",
      "chunk number:10, rows amount:(0, 10)\n",
      "(10000000, 10)\n",
      "chunk number:11, rows amount:(0, 10)\n"
     ]
    },
    {
     "name": "stderr",
     "output_type": "stream",
     "text": [
      "c:\\Users\\Yuval-PC\\Desktop\\project\\FinalProjDS\\chunk_filtering.py:13: DtypeWarning: Columns (6,8) have mixed types. Specify dtype option on import or set low_memory=False.\n",
      "  for chunk in reader:\n"
     ]
    },
    {
     "name": "stdout",
     "output_type": "stream",
     "text": [
      "(10000000, 10)\n",
      "chunk number:12, rows amount:(0, 10)\n"
     ]
    },
    {
     "name": "stderr",
     "output_type": "stream",
     "text": [
      "c:\\Users\\Yuval-PC\\Desktop\\project\\FinalProjDS\\chunk_filtering.py:13: DtypeWarning: Columns (6,8) have mixed types. Specify dtype option on import or set low_memory=False.\n",
      "  for chunk in reader:\n"
     ]
    },
    {
     "name": "stdout",
     "output_type": "stream",
     "text": [
      "(10000000, 10)\n",
      "chunk number:13, rows amount:(0, 10)\n",
      "(10000000, 10)\n",
      "chunk number:14, rows amount:(0, 10)\n",
      "(10000000, 10)\n",
      "chunk number:15, rows amount:(0, 10)\n"
     ]
    },
    {
     "name": "stderr",
     "output_type": "stream",
     "text": [
      "c:\\Users\\Yuval-PC\\Desktop\\project\\FinalProjDS\\chunk_filtering.py:13: DtypeWarning: Columns (6,8) have mixed types. Specify dtype option on import or set low_memory=False.\n",
      "  for chunk in reader:\n"
     ]
    },
    {
     "name": "stdout",
     "output_type": "stream",
     "text": [
      "(10000000, 10)\n",
      "chunk number:16, rows amount:(0, 10)\n"
     ]
    },
    {
     "name": "stderr",
     "output_type": "stream",
     "text": [
      "c:\\Users\\Yuval-PC\\Desktop\\project\\FinalProjDS\\chunk_filtering.py:13: DtypeWarning: Columns (6,8) have mixed types. Specify dtype option on import or set low_memory=False.\n",
      "  for chunk in reader:\n"
     ]
    },
    {
     "name": "stdout",
     "output_type": "stream",
     "text": [
      "(10000000, 10)\n",
      "chunk number:17, rows amount:(0, 10)\n",
      "(10000000, 10)\n",
      "chunk number:18, rows amount:(0, 10)\n",
      "(10000000, 10)\n",
      "chunk number:19, rows amount:(0, 10)\n"
     ]
    },
    {
     "name": "stderr",
     "output_type": "stream",
     "text": [
      "c:\\Users\\Yuval-PC\\Desktop\\project\\FinalProjDS\\chunk_filtering.py:13: DtypeWarning: Columns (6,8) have mixed types. Specify dtype option on import or set low_memory=False.\n",
      "  for chunk in reader:\n"
     ]
    },
    {
     "name": "stdout",
     "output_type": "stream",
     "text": [
      "(10000000, 10)\n",
      "chunk number:20, rows amount:(0, 10)\n"
     ]
    },
    {
     "name": "stderr",
     "output_type": "stream",
     "text": [
      "c:\\Users\\Yuval-PC\\Desktop\\project\\FinalProjDS\\chunk_filtering.py:13: DtypeWarning: Columns (6,8) have mixed types. Specify dtype option on import or set low_memory=False.\n",
      "  for chunk in reader:\n"
     ]
    },
    {
     "name": "stdout",
     "output_type": "stream",
     "text": [
      "(10000000, 10)\n",
      "chunk number:21, rows amount:(0, 10)\n",
      "(10000000, 10)\n",
      "chunk number:22, rows amount:(0, 10)\n",
      "(10000000, 10)\n",
      "chunk number:23, rows amount:(0, 10)\n"
     ]
    },
    {
     "name": "stderr",
     "output_type": "stream",
     "text": [
      "c:\\Users\\Yuval-PC\\Desktop\\project\\FinalProjDS\\chunk_filtering.py:13: DtypeWarning: Columns (6,8) have mixed types. Specify dtype option on import or set low_memory=False.\n",
      "  for chunk in reader:\n"
     ]
    },
    {
     "name": "stdout",
     "output_type": "stream",
     "text": [
      "(10000000, 10)\n",
      "chunk number:24, rows amount:(0, 10)\n"
     ]
    },
    {
     "name": "stderr",
     "output_type": "stream",
     "text": [
      "c:\\Users\\Yuval-PC\\Desktop\\project\\FinalProjDS\\chunk_filtering.py:13: DtypeWarning: Columns (6,8) have mixed types. Specify dtype option on import or set low_memory=False.\n",
      "  for chunk in reader:\n"
     ]
    },
    {
     "name": "stdout",
     "output_type": "stream",
     "text": [
      "(10000000, 10)\n",
      "chunk number:25, rows amount:(0, 10)\n",
      "(10000000, 10)\n",
      "chunk number:26, rows amount:(0, 10)\n",
      "(10000000, 10)\n",
      "chunk number:27, rows amount:(0, 10)\n"
     ]
    },
    {
     "name": "stderr",
     "output_type": "stream",
     "text": [
      "c:\\Users\\Yuval-PC\\Desktop\\project\\FinalProjDS\\chunk_filtering.py:13: DtypeWarning: Columns (6,8) have mixed types. Specify dtype option on import or set low_memory=False.\n",
      "  for chunk in reader:\n"
     ]
    },
    {
     "name": "stdout",
     "output_type": "stream",
     "text": [
      "(10000000, 10)\n",
      "chunk number:28, rows amount:(0, 10)\n",
      "(10000000, 10)\n",
      "chunk number:29, rows amount:(0, 10)\n"
     ]
    },
    {
     "name": "stderr",
     "output_type": "stream",
     "text": [
      "c:\\Users\\Yuval-PC\\Desktop\\project\\FinalProjDS\\chunk_filtering.py:13: DtypeWarning: Columns (6,8) have mixed types. Specify dtype option on import or set low_memory=False.\n",
      "  for chunk in reader:\n"
     ]
    },
    {
     "name": "stdout",
     "output_type": "stream",
     "text": [
      "(10000000, 10)\n",
      "chunk number:30, rows amount:(0, 10)\n",
      "(10000000, 10)\n",
      "chunk number:31, rows amount:(0, 10)\n",
      "(9499788, 10)\n",
      "chunk number:32, rows amount:(0, 10)\n",
      "combine chunks\n"
     ]
    },
    {
     "name": "stderr",
     "output_type": "stream",
     "text": [
      "c:\\Users\\Yuval-PC\\Desktop\\project\\FinalProjDS\\chunk_filtering.py:31: DtypeWarning: Columns (9) have mixed types. Specify dtype option on import or set low_memory=False.\n",
      "  df_tmp = pd.read_csv(input_path + '\\\\' + file)\n"
     ]
    },
    {
     "name": "stdout",
     "output_type": "stream",
     "text": [
      "delete tmp folder\n"
     ]
    }
   ],
   "source": [
    "filtered_chartevents = chunk_filtering.filter_big_file(\"data\\icu\\chartevents.csv\", [10098428,10316237,10390732,10442603,10471837,10545747,11203579,11655031,11657854,11731917,12006998,12302099,12638104,12643806,12823483,13343224,13561149,14122388,14685940,14702630,14819767,14934088,15403474,15654297,15690435,15775064,15897606,16571922,16731711,16994397,17565549,17922352,17963938,18400480,18768021,18826099,18870126,19099515,19215025,10004235,10006029,10017851,10017886,10019003,10031358,10035168,10035631,10047172,10054716,10071281])\n"
   ]
  },
  {
   "cell_type": "code",
   "execution_count": 32,
   "metadata": {},
   "outputs": [],
   "source": [
    "itemids = pd.read_csv(\"data\\\\icu\\\\d_items.csv\")\n"
   ]
  },
  {
   "cell_type": "code",
   "execution_count": 33,
   "metadata": {},
   "outputs": [
    {
     "data": {
      "text/html": [
       "<div>\n",
       "<style scoped>\n",
       "    .dataframe tbody tr th:only-of-type {\n",
       "        vertical-align: middle;\n",
       "    }\n",
       "\n",
       "    .dataframe tbody tr th {\n",
       "        vertical-align: top;\n",
       "    }\n",
       "\n",
       "    .dataframe thead th {\n",
       "        text-align: right;\n",
       "    }\n",
       "</style>\n",
       "<table border=\"1\" class=\"dataframe\">\n",
       "  <thead>\n",
       "    <tr style=\"text-align: right;\">\n",
       "      <th></th>\n",
       "      <th>itemid</th>\n",
       "      <th>label</th>\n",
       "      <th>abbreviation</th>\n",
       "      <th>linksto</th>\n",
       "      <th>category</th>\n",
       "      <th>unitname</th>\n",
       "      <th>param_type</th>\n",
       "      <th>lownormalvalue</th>\n",
       "      <th>highnormalvalue</th>\n",
       "    </tr>\n",
       "  </thead>\n",
       "  <tbody>\n",
       "    <tr>\n",
       "      <th>0</th>\n",
       "      <td>220003</td>\n",
       "      <td>ICU Admission date</td>\n",
       "      <td>ICU Admission date</td>\n",
       "      <td>datetimeevents</td>\n",
       "      <td>ADT</td>\n",
       "      <td>NaN</td>\n",
       "      <td>Date and time</td>\n",
       "      <td>NaN</td>\n",
       "      <td>NaN</td>\n",
       "    </tr>\n",
       "    <tr>\n",
       "      <th>1</th>\n",
       "      <td>220045</td>\n",
       "      <td>Heart Rate</td>\n",
       "      <td>HR</td>\n",
       "      <td>chartevents</td>\n",
       "      <td>Routine Vital Signs</td>\n",
       "      <td>bpm</td>\n",
       "      <td>Numeric</td>\n",
       "      <td>NaN</td>\n",
       "      <td>NaN</td>\n",
       "    </tr>\n",
       "    <tr>\n",
       "      <th>2</th>\n",
       "      <td>220046</td>\n",
       "      <td>Heart rate Alarm - High</td>\n",
       "      <td>HR Alarm - High</td>\n",
       "      <td>chartevents</td>\n",
       "      <td>Alarms</td>\n",
       "      <td>bpm</td>\n",
       "      <td>Numeric</td>\n",
       "      <td>NaN</td>\n",
       "      <td>NaN</td>\n",
       "    </tr>\n",
       "    <tr>\n",
       "      <th>3</th>\n",
       "      <td>220047</td>\n",
       "      <td>Heart Rate Alarm - Low</td>\n",
       "      <td>HR Alarm - Low</td>\n",
       "      <td>chartevents</td>\n",
       "      <td>Alarms</td>\n",
       "      <td>bpm</td>\n",
       "      <td>Numeric</td>\n",
       "      <td>NaN</td>\n",
       "      <td>NaN</td>\n",
       "    </tr>\n",
       "    <tr>\n",
       "      <th>4</th>\n",
       "      <td>220048</td>\n",
       "      <td>Heart Rhythm</td>\n",
       "      <td>Heart Rhythm</td>\n",
       "      <td>chartevents</td>\n",
       "      <td>Routine Vital Signs</td>\n",
       "      <td>NaN</td>\n",
       "      <td>Text</td>\n",
       "      <td>NaN</td>\n",
       "      <td>NaN</td>\n",
       "    </tr>\n",
       "    <tr>\n",
       "      <th>...</th>\n",
       "      <td>...</td>\n",
       "      <td>...</td>\n",
       "      <td>...</td>\n",
       "      <td>...</td>\n",
       "      <td>...</td>\n",
       "      <td>...</td>\n",
       "      <td>...</td>\n",
       "      <td>...</td>\n",
       "      <td>...</td>\n",
       "    </tr>\n",
       "    <tr>\n",
       "      <th>3856</th>\n",
       "      <td>229355</td>\n",
       "      <td>Absolute Neutrophil Count</td>\n",
       "      <td>Absolute Neutrophil Count</td>\n",
       "      <td>chartevents</td>\n",
       "      <td>Labs</td>\n",
       "      <td>None</td>\n",
       "      <td>Numeric</td>\n",
       "      <td>NaN</td>\n",
       "      <td>NaN</td>\n",
       "    </tr>\n",
       "    <tr>\n",
       "      <th>3857</th>\n",
       "      <td>229453</td>\n",
       "      <td>Exam-GI/GU</td>\n",
       "      <td>Exam-GI/GU</td>\n",
       "      <td>chartevents</td>\n",
       "      <td>MD Progress Note</td>\n",
       "      <td>NaN</td>\n",
       "      <td>Text</td>\n",
       "      <td>NaN</td>\n",
       "      <td>NaN</td>\n",
       "    </tr>\n",
       "    <tr>\n",
       "      <th>3858</th>\n",
       "      <td>229604</td>\n",
       "      <td>Therapeutic Bed</td>\n",
       "      <td>Therapeutic Bed</td>\n",
       "      <td>chartevents</td>\n",
       "      <td>Treatments</td>\n",
       "      <td>NaN</td>\n",
       "      <td>Text</td>\n",
       "      <td>NaN</td>\n",
       "      <td>NaN</td>\n",
       "    </tr>\n",
       "    <tr>\n",
       "      <th>3859</th>\n",
       "      <td>229709</td>\n",
       "      <td>Angiotensin II (Giapreza)</td>\n",
       "      <td>Angiotensin II (Giapreza)</td>\n",
       "      <td>inputevents</td>\n",
       "      <td>Medications</td>\n",
       "      <td>mg</td>\n",
       "      <td>Solution</td>\n",
       "      <td>NaN</td>\n",
       "      <td>NaN</td>\n",
       "    </tr>\n",
       "    <tr>\n",
       "      <th>3860</th>\n",
       "      <td>229836</td>\n",
       "      <td>Low Speed Limit (VAD)</td>\n",
       "      <td>Low Speed Limit (VAD)</td>\n",
       "      <td>chartevents</td>\n",
       "      <td>Durable VAD</td>\n",
       "      <td>NaN</td>\n",
       "      <td>Text</td>\n",
       "      <td>NaN</td>\n",
       "      <td>NaN</td>\n",
       "    </tr>\n",
       "  </tbody>\n",
       "</table>\n",
       "<p>3861 rows × 9 columns</p>\n",
       "</div>"
      ],
      "text/plain": [
       "      itemid                      label               abbreviation  \\\n",
       "0     220003         ICU Admission date         ICU Admission date   \n",
       "1     220045                 Heart Rate                         HR   \n",
       "2     220046    Heart rate Alarm - High            HR Alarm - High   \n",
       "3     220047     Heart Rate Alarm - Low             HR Alarm - Low   \n",
       "4     220048               Heart Rhythm               Heart Rhythm   \n",
       "...      ...                        ...                        ...   \n",
       "3856  229355  Absolute Neutrophil Count  Absolute Neutrophil Count   \n",
       "3857  229453                 Exam-GI/GU                 Exam-GI/GU   \n",
       "3858  229604            Therapeutic Bed            Therapeutic Bed   \n",
       "3859  229709  Angiotensin II (Giapreza)  Angiotensin II (Giapreza)   \n",
       "3860  229836      Low Speed Limit (VAD)      Low Speed Limit (VAD)   \n",
       "\n",
       "             linksto             category unitname     param_type  \\\n",
       "0     datetimeevents                  ADT      NaN  Date and time   \n",
       "1        chartevents  Routine Vital Signs      bpm        Numeric   \n",
       "2        chartevents               Alarms      bpm        Numeric   \n",
       "3        chartevents               Alarms      bpm        Numeric   \n",
       "4        chartevents  Routine Vital Signs      NaN           Text   \n",
       "...              ...                  ...      ...            ...   \n",
       "3856     chartevents                 Labs     None        Numeric   \n",
       "3857     chartevents     MD Progress Note      NaN           Text   \n",
       "3858     chartevents           Treatments      NaN           Text   \n",
       "3859     inputevents          Medications       mg       Solution   \n",
       "3860     chartevents          Durable VAD      NaN           Text   \n",
       "\n",
       "      lownormalvalue  highnormalvalue  \n",
       "0                NaN              NaN  \n",
       "1                NaN              NaN  \n",
       "2                NaN              NaN  \n",
       "3                NaN              NaN  \n",
       "4                NaN              NaN  \n",
       "...              ...              ...  \n",
       "3856             NaN              NaN  \n",
       "3857             NaN              NaN  \n",
       "3858             NaN              NaN  \n",
       "3859             NaN              NaN  \n",
       "3860             NaN              NaN  \n",
       "\n",
       "[3861 rows x 9 columns]"
      ]
     },
     "execution_count": 33,
     "metadata": {},
     "output_type": "execute_result"
    }
   ],
   "source": [
    "itemids = pd.read_csv(\"data\\\\icu\\\\d_items.csv\")\n",
    "itemids"
   ]
  },
  {
   "cell_type": "code",
   "execution_count": 34,
   "metadata": {},
   "outputs": [],
   "source": [
    "filtered_chartevents.merge(itemids, left_on=\"itemid\", right_on=\"itemid\").groupby(by=[\"label\", \"itemid\"]).agg({\"label\":\"count\"}).to_csv(\"patient_events.csv\")"
   ]
  },
  {
   "cell_type": "code",
   "execution_count": 1,
   "metadata": {},
   "outputs": [
    {
     "ename": "NameError",
     "evalue": "name 'filtered_chartevents' is not defined",
     "output_type": "error",
     "traceback": [
      "\u001b[1;31m---------------------------------------------------------------------------\u001b[0m",
      "\u001b[1;31mNameError\u001b[0m                                 Traceback (most recent call last)",
      "\u001b[1;32mc:\\Users\\Yuval-PC\\Desktop\\project\\FinalProjDS\\play.ipynb Cell 8'\u001b[0m in \u001b[0;36m<cell line: 1>\u001b[1;34m()\u001b[0m\n\u001b[1;32m----> <a href='vscode-notebook-cell:/c%3A/Users/Yuval-PC/Desktop/project/FinalProjDS/play.ipynb#ch0000007?line=0'>1</a>\u001b[0m filtered_chartevents\n",
      "\u001b[1;31mNameError\u001b[0m: name 'filtered_chartevents' is not defined"
     ]
    }
   ],
   "source": [
    "filtered_chartevents"
   ]
  }
 ],
 "metadata": {
  "interpreter": {
   "hash": "21589a861e7059626eec49178cfa44acb1c319d38466653f7be5797ee1fb4f34"
  },
  "kernelspec": {
   "display_name": "Python 3.9.5 64-bit",
   "language": "python",
   "name": "python3"
  },
  "language_info": {
   "codemirror_mode": {
    "name": "ipython",
    "version": 3
   },
   "file_extension": ".py",
   "mimetype": "text/x-python",
   "name": "python",
   "nbconvert_exporter": "python",
   "pygments_lexer": "ipython3",
   "version": "3.9.5"
  },
  "orig_nbformat": 4
 },
 "nbformat": 4,
 "nbformat_minor": 2
}
