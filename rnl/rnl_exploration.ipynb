{
 "cells": [
  {
   "cell_type": "code",
   "execution_count": 1,
   "metadata": {},
   "outputs": [],
   "source": [
    "import pickle"
   ]
  },
  {
   "cell_type": "code",
   "execution_count": 5,
   "metadata": {},
   "outputs": [],
   "source": [
    "# policy = pickle.load('../policy.pkl')\n",
    "policy = None\n",
    "with open('artifacts/policy.pkl', 'rb') as f:\n",
    "    policy = pickle.load(f)"
   ]
  },
  {
   "cell_type": "code",
   "execution_count": 7,
   "metadata": {},
   "outputs": [],
   "source": [
    "V = None\n",
    "with open('artifacts/V.pkl', 'rb') as f:\n",
    "    V = pickle.load(f)\n",
    "\n",
    "deltas = None\n",
    "with open('artifacts/deltas.pkl', 'rb') as f:\n",
    "    deltas = pickle.load(f)\n"
   ]
  },
  {
   "cell_type": "code",
   "execution_count": 30,
   "metadata": {},
   "outputs": [],
   "source": [
    "bounds = [i for i in range(0, 201, 5)]"
   ]
  },
  {
   "cell_type": "code",
   "execution_count": 34,
   "metadata": {},
   "outputs": [
    {
     "data": {
      "text/plain": [
       "dict_values([0.35000000000000003, 0.23, 0.18, 0.16, 0.03, 0.08, 0.08, 0.24, 0.35000000000000003, 0.27, 0.39, 0.33, 0.23, 0.37, 0.33, 0.08, 0.39, 0.17, 0.36, 0.27, 0.39, 0.27, 0.22, 0.33, 0.13, 0.34, 0.29, 0.03, 0.02, 0.07, 0.17, 0.31, 0.38, 0.22, 0.12, 0.05, 0.37, 0.17, 0.21, 0.09, 0.0])"
      ]
     },
     "execution_count": 34,
     "metadata": {},
     "output_type": "execute_result"
    }
   ],
   "source": [
    "policy.values()"
   ]
  },
  {
   "cell_type": "code",
   "execution_count": 37,
   "metadata": {},
   "outputs": [
    {
     "data": {
      "image/png": "[encoded data removed]",
      "text/plain": [
       "<Figure size 432x288 with 1 Axes>"
      ]
     },
     "metadata": {
      "needs_background": "light"
     },
     "output_type": "display_data"
    }
   ],
   "source": [
    "plt.scatter(bounds, policy.values())\n",
    "plt.show()"
   ]
  },
  {
   "cell_type": "code",
   "execution_count": 42,
   "metadata": {},
   "outputs": [
    {
     "data": {
      "text/plain": [
       "<matplotlib.collections.PathCollection at 0x15f3a0153c0>"
      ]
     },
     "execution_count": 42,
     "metadata": {},
     "output_type": "execute_result"
    },
    {
     "data": {
      "image/png": "[encoded data removed]",
      "text/plain": [
       "<Figure size 432x288 with 1 Axes>"
      ]
     },
     "metadata": {
      "needs_background": "light"
     },
     "output_type": "display_data"
    }
   ],
   "source": [
    "plt.scatter(bounds, V.values())"
   ]
  }
 ],
 "metadata": {
  "kernelspec": {
   "display_name": "Python 3.10.4 64-bit",
   "language": "python",
   "name": "python3"
  },
  "language_info": {
   "codemirror_mode": {
    "name": "ipython",
    "version": 3
   },
   "file_extension": ".py",
   "mimetype": "text/x-python",
   "name": "python",
   "nbconvert_exporter": "python",
   "pygments_lexer": "ipython3",
   "version": "3.10.4"
  },
  "orig_nbformat": 4,
  "vscode": {
   "interpreter": {
    "hash": "2a81ccbe17102d48bdec925e9311487b015961bfe3fa8f064acc458fe41b4313"
   }
  }
 },
 "nbformat": 4,
 "nbformat_minor": 2
}
